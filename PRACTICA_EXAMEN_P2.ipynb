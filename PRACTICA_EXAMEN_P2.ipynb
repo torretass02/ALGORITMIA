{
 "cells": [
  {
   "cell_type": "code",
   "execution_count": 31,
   "metadata": {},
   "outputs": [
    {
     "data": {
      "text/plain": [
       "[0, 1, 3, 4, 2, 0]"
      ]
     },
     "execution_count": 31,
     "metadata": {},
     "output_type": "execute_result"
    }
   ],
   "source": [
    "import numpy as np\n",
    "import random\n",
    "from itertools import permutations\n",
    "from typing import List, Dict, Callable, Iterable\n",
    "import math\n",
    "\n",
    "def len_circuit(circuit: list, dist_m: np.ndarray) -> int:\n",
    "    longitud = 0\n",
    "\n",
    "    for i in range(len(dist_m)):\n",
    "        longitud += dist_m[circuit[i]][circuit[i+1]]\n",
    "\n",
    "    return longitud\n",
    "\n",
    "def exhaustive_tsp(dist_m: np.ndarray) -> list:\n",
    "    c = []\n",
    "    l = []\n",
    "    h = []\n",
    "\n",
    "    for i in range(len(dist_m)):\n",
    "        c.append(i)\n",
    "\n",
    "    if math.factorial(len(c)) < 10**7:\n",
    "\n",
    "        p = list(permutations(c))\n",
    "\n",
    "        for i in p:\n",
    "            l.append(list(i))\n",
    "\n",
    "        for i in range(len(l)):\n",
    "            l[i].append(l[i][0])\n",
    "\n",
    "        min = len_circuit(l[0], dist_m)\n",
    "        h = list(np.copy(l[0]))\n",
    "\n",
    "        for i in l[1:]:\n",
    "            aux = len_circuit(i, dist_m)\n",
    "            if aux < min:\n",
    "                min = aux\n",
    "                h = list(np.copy(i))\n",
    "\n",
    "        return h\n",
    "    else:\n",
    "        print(\"Tiene que haber menos de 10⁷ caminos\")\n",
    "\n",
    "def dist_matrix(n_nodes: int, w_max=10) -> np.ndarray:\n",
    "  matriz = []\n",
    "  for i in range(n_nodes):\n",
    "    fila = []\n",
    "    for j in range(n_nodes):\n",
    "      fila.append(0)\n",
    "    matriz.append(fila)\n",
    "\n",
    "  for i in range(n_nodes):\n",
    "    for j in range(i+1, n_nodes):\n",
    "      valor = random.randint(0, w_max)\n",
    "      matriz[i][j] = valor\n",
    "      matriz[j][i] = valor\n",
    "  return np.array(matriz)\n",
    "\n",
    "n = 5\n",
    "m = dist_matrix(n)\n",
    "exhaustive_tsp(m)"
   ]
  }
 ],
 "metadata": {
  "kernelspec": {
   "display_name": "Python 3.9.12 ('base')",
   "language": "python",
   "name": "python3"
  },
  "language_info": {
   "codemirror_mode": {
    "name": "ipython",
    "version": 3
   },
   "file_extension": ".py",
   "mimetype": "text/x-python",
   "name": "python",
   "nbconvert_exporter": "python",
   "pygments_lexer": "ipython3",
   "version": "3.9.12"
  },
  "orig_nbformat": 4,
  "vscode": {
   "interpreter": {
    "hash": "e8fac7edbe3fc3ee8dc4af7fb9891cac1e2a78a800a1446a0d4fe2e2c052a0fd"
   }
  }
 },
 "nbformat": 4,
 "nbformat_minor": 2
}
