{
 "cells": [
  {
   "cell_type": "code",
   "execution_count": 7,
   "metadata": {},
   "outputs": [
    {
     "data": {
      "text/plain": [
       "([4, 5, 2], 6, [8, 7, 9])"
      ]
     },
     "execution_count": 7,
     "metadata": {},
     "output_type": "execute_result"
    }
   ],
   "source": [
    "import numpy as np\n",
    "from typing import List, Tuple\n",
    "\n",
    "def split(t: List) -> Tuple[List, int, List]:\n",
    "    mid = t[0]\n",
    "    t_l = [u for u in t if u < mid]\n",
    "    t_r = [u for u in t if u > mid]\n",
    "    return (t_l, mid, t_r)\n",
    "\n",
    "h = [6,8,7,4,5,9,2]\n",
    "\n",
    "split(h)\n",
    "\n"
   ]
  },
  {
   "cell_type": "code",
   "execution_count": 15,
   "id": "41c0bf4f",
   "metadata": {},
   "outputs": [
    {
     "name": "stdout",
     "output_type": "stream",
     "text": [
      "7\n",
      "TERCER IF\n",
      "PRIMER IF\n"
     ]
    },
    {
     "data": {
      "text/plain": [
       "8"
      ]
     },
     "execution_count": 15,
     "metadata": {},
     "output_type": "execute_result"
    }
   ],
   "source": [
    "import numpy as np\n",
    "from typing import List, Tuple, Dict, Callable, Iterable,Union\n",
    "def qsel(t: np.ndarray, k: int)-> Union[int, None]:\n",
    "    if len(t) == 1 and k == 0:\n",
    "        return t[0]\n",
    "    t_l, mid, t_r = split(t)\n",
    "    m = len(t_l)\n",
    "    if k == m:\n",
    "        print(\"PRIMER IF\")\n",
    "        return mid\n",
    "    elif k < m:\n",
    "        print(\"SEGUNDO IF\")\n",
    "        return qsel(t_l, k)\n",
    "    else:\n",
    "        print(\"TERCER IF\")\n",
    "        return qsel(t_r, k-m-1)\n",
    "\n",
    "h = [6,8,7,4,5,9,5]\n",
    "\n",
    "qsel(h, 5)"
   ]
  },
  {
   "cell_type": "code",
   "execution_count": null,
   "id": "ceb7ee39",
   "metadata": {},
   "outputs": [],
   "source": []
  },
  {
   "cell_type": "code",
   "execution_count": 19,
   "id": "6d3769c2",
   "metadata": {},
   "outputs": [
    {
     "data": {
      "text/plain": [
       "7"
      ]
     },
     "execution_count": 19,
     "metadata": {},
     "output_type": "execute_result"
    }
   ],
   "source": [
    "from typing import List, Tuple, Dict, Callable, Iterable,Union\n",
    "def split_pivot(t: np.ndarray, mid: int)-> Tuple[np.ndarray, int, np.ndarray]:\n",
    "    t_l = [u for u in t if u < mid]\n",
    "    t_r = [u for u in t if u > mid]\n",
    "    return (t_l, mid, t_r)\n",
    "\n",
    "def QSel5_nr (data:List, k:int) -> Union[int, None]:\n",
    "    cutoff = 5\n",
    "    \n",
    "    if len(data) <= cutoff:\n",
    "        return sorted(data)[k-1]\n",
    "    else:\n",
    "        pivot_value = pivot5(data)\n",
    "    \n",
    "        s_1, pivot_value, s_2 = split_pivot(data, pivot_value)\n",
    "\n",
    "        pivot_index = len(s_1)\n",
    "\n",
    "        if (k-1) == pivot_index  :\n",
    "            return pivot_value\n",
    "        elif (k-1) < pivot_index :\n",
    "            return QSel5_nr (s_1, k)\n",
    "        else:\n",
    "            return QSel5_nr (s_2, k-pivot_index-1)\n",
    "\n",
    "h = [6,8,7,4,5,9,2]\n",
    "\n",
    "QSel5_nr(h, 5)\n",
    "        "
   ]
  },
  {
   "cell_type": "code",
   "execution_count": 20,
   "id": "a1edbb0d",
   "metadata": {},
   "outputs": [
    {
     "data": {
      "text/plain": [
       "8"
      ]
     },
     "execution_count": 20,
     "metadata": {},
     "output_type": "execute_result"
    }
   ],
   "source": [
    "def qsel_nr(t: np.ndarray, k: int)-> Union[int, None]:\n",
    "    if(k < 0 or t is None):\n",
    "        return None\n",
    "    \n",
    "    if(len(t)==1):\n",
    "        return t[0]\n",
    "    else:\n",
    "        t1, p, t2 = split(t)\n",
    "        m = len(t1)\n",
    "\n",
    "        if k==m:\n",
    "            ret = p\n",
    "        elif k<m:\n",
    "            ret = qsel_nr(t1, k)\n",
    "        elif k>m:\n",
    "            ret = qsel_nr(t2, k-m-1)\n",
    "\n",
    "    return ret\n",
    "        \n",
    "\n",
    "h = [6,8,7,4,5,9,2]\n",
    "\n",
    "qsel_nr(h, 5)\n"
   ]
  },
  {
   "cell_type": "code",
   "execution_count": 17,
   "id": "0ee0bd86",
   "metadata": {},
   "outputs": [
    {
     "data": {
      "text/plain": [
       "([6, 4, 5, 2], 7, [8, 9])"
      ]
     },
     "execution_count": 17,
     "metadata": {},
     "output_type": "execute_result"
    }
   ],
   "source": [
    "import numpy as np\n",
    "from typing import List, Tuple, Dict, Callable, Iterable,Union\n",
    "\n",
    "def split_pivot(t: np.ndarray, mid: int)-> Tuple[np.ndarray, int, np.ndarray]:\n",
    "    t_l = [u for u in t if u < mid]\n",
    "    t_r = [u for u in t if u > mid]\n",
    "    return (t_l, mid, t_r)\n",
    "\n",
    "h = [6,8,7,4,5,9,2]\n",
    "\n",
    "split_pivot(h,7)\n"
   ]
  },
  {
   "cell_type": "code",
   "execution_count": 5,
   "id": "66c4317a",
   "metadata": {},
   "outputs": [
    {
     "data": {
      "text/plain": [
       "6"
      ]
     },
     "execution_count": 5,
     "metadata": {},
     "output_type": "execute_result"
    }
   ],
   "source": [
    "import numpy as np\n",
    "\n",
    "def pivot5(t: np.ndarray)-> int:\n",
    "    '''Calculate the medians of medians'''\n",
    "    n_group = len(t) // 5\n",
    "    index_median = 5 // 2 \n",
    "    cutoff = 5\n",
    "    sublists =  [t[j:j+ 5] for j in range(0, len(t), 5)][:n_group]\n",
    "    medians = [sorted(sub)[index_median] for sub in sublists]\n",
    "\n",
    "    if len(medians) <= cutoff:\n",
    "        pivot = sorted(medians)[len(medians)//2]\n",
    "    else:\n",
    "        pivot = QSelect5 (medians, len(medians)//2)\n",
    "        \n",
    "    return pivot\n",
    "    \n",
    "\n",
    "h = [6,8,7,4,5,0,2,1,11,10,5,6,7,8,9]\n",
    "\n",
    "pivot5(h)"
   ]
  },
  {
   "cell_type": "code",
   "execution_count": 21,
   "id": "e8c112ca",
   "metadata": {},
   "outputs": [
    {
     "data": {
      "text/plain": [
       "7"
      ]
     },
     "execution_count": 21,
     "metadata": {},
     "output_type": "execute_result"
    }
   ],
   "source": [
    "from typing import List, Tuple, Dict, Callable, Iterable,Union\n",
    "def QSelect5 (data:List, k:int) -> Union[int, None]:\n",
    "    group_size = 5\n",
    "    cutoff = 5\n",
    "    \n",
    "    if len(data) <= cutoff:\n",
    "        return sorted(data)[k-1]\n",
    "    \n",
    "    pivot_value = pivot5(data)\n",
    "    \n",
    "    s_1, pivot_value, s_2 = split_pivot(data, pivot_value)\n",
    "\n",
    "    pivot_index = len(s_1)\n",
    "\n",
    "    if (k-1) == pivot_index  :\n",
    "        return pivot_value\n",
    "    elif (k-1) < pivot_index :\n",
    "        return QSelect5 (s_1, k)\n",
    "    else:\n",
    "        return QSelect5 (s_2, k-pivot_index-1)\n",
    "    \n",
    "h = [6,8,7,4,5,9,2]\n",
    "\n",
    "QSelect5(h, 5)"
   ]
  },
  {
   "cell_type": "code",
   "execution_count": 15,
   "id": "65940abf",
   "metadata": {},
   "outputs": [
    {
     "name": "stdout",
     "output_type": "stream",
     "text": [
      "Edit distance:2\n"
     ]
    }
   ],
   "source": [
    "def edit_distance(str_1: str, str_2: str)-> int:\n",
    "    D = np.zeros((len(x)+1, len(y)+1), dtype=int)\n",
    "    D[0, 1:] = range(1, len(y)+1)\n",
    "    D[1:, 0] = range(1, len(x)+1)\n",
    "    \n",
    "    for i in range(1, len(x)+1):\n",
    "        for j in range(1, len(y)+1):\n",
    "            # x[i] == y[j]\n",
    "            if (x[i-1] == y[j-1]):\n",
    "                D[i,j] = D[i-1, j-1]\n",
    "                \n",
    "            # x[i] != y[j]\n",
    "            else :\n",
    "                D[i, j] = min(D[i-1, j-1]+1, D[i-1, j]+1, D[i, j-1]+1)\n",
    "    \n",
    "    return D\n",
    "\n",
    "# ----- Driver program ------\n",
    "y = \"cosa\"\n",
    "x = \"caso\"\n",
    "\n",
    "D = D = edit_distance(x, y)\n",
    "print(D)\n",
    "print (f'Edit distance:{D[-1,-1]}')"
   ]
  },
  {
   "cell_type": "code",
   "execution_count": 11,
   "id": "665e1d47",
   "metadata": {},
   "outputs": [
    {
     "name": "stdout",
     "output_type": "stream",
     "text": [
      "[[0 0 0 0 0 0 0]\n",
      " [0 0 0 0 1 1 1]\n",
      " [0 1 1 1 1 2 2]\n",
      " [0 1 1 2 2 2 2]\n",
      " [0 1 1 2 2 3 3]\n",
      " [0 1 2 2 2 3 3]\n",
      " [0 1 2 2 3 3 4]\n",
      " [0 1 2 2 3 4 4]]\n",
      "LCS length: 4\n"
     ]
    }
   ],
   "source": [
    "def max_subsequence_length(str_1: str, str_2: str)-> int:\n",
    "    \"\"\" Calculate  the LCS length between sequences x and y using\n",
    "    matrix dynamic programming. Return matrix. \"\"\"\n",
    "    \n",
    "    e = np.zeros((len(x)+1, len(y)+1), dtype=int)\n",
    "    \n",
    "    for i in range(1, len(x)+1):\n",
    "        for j in range(1, len(y)+1):\n",
    "            # x[i] == y[j]\n",
    "            if (x[i-1] == y[j-1]):\n",
    "                e[i,j] = 1 + e[i-1, j-1]\n",
    "                \n",
    "            # x[i] != y[j]    \n",
    "            else :\n",
    "                e[i, j] = max(e[i-1, j], e[i, j-1])\n",
    "    return e\n",
    "\n",
    "y = \"BDCABA\"\n",
    "x = \"ABCBDAB\"\n",
    "\n",
    "e = max_subsequence_length(x, y)\n",
    "print(e)\n",
    "print(f'LCS length: {e[-1,-1]}')"
   ]
  },
  {
   "cell_type": "code",
   "execution_count": null,
   "id": "c09dbfd1",
   "metadata": {},
   "outputs": [],
   "source": [
    "def max_common_subsequence(str_1: str, str_2: str)-> str:"
   ]
  },
  {
   "cell_type": "code",
   "execution_count": null,
   "id": "60db4858",
   "metadata": {},
   "outputs": [],
   "source": [
    "def min_mult_matrix(l_dims: List[int])-> int:"
   ]
  }
 ],
 "metadata": {
  "kernelspec": {
   "display_name": "Python 3.9.12 ('base')",
   "language": "python",
   "name": "python3"
  },
  "language_info": {
   "codemirror_mode": {
    "name": "ipython",
    "version": 3
   },
   "file_extension": ".py",
   "mimetype": "text/x-python",
   "name": "python",
   "nbconvert_exporter": "python",
   "pygments_lexer": "ipython3",
   "version": "3.9.12"
  },
  "vscode": {
   "interpreter": {
    "hash": "e8fac7edbe3fc3ee8dc4af7fb9891cac1e2a78a800a1446a0d4fe2e2c052a0fd"
   }
  }
 },
 "nbformat": 4,
 "nbformat_minor": 5
}
