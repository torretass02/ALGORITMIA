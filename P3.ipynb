{
 "cells": [
  {
   "cell_type": "code",
   "execution_count": null,
   "id": "c0a2b437",
   "metadata": {},
   "outputs": [],
   "source": [
    "def QSelect5 (data:List, k:int, group_size=5, cutoff=5) -> int:\n",
    "    ''' No admite elementos repetidos\n",
    "    Importante: cutoff >= group_size'''\n",
    "    \n",
    "    # Caso base (con cutoff)\n",
    "    if len(data) <= cutoff:\n",
    "        return sorted(data)[k-1]\n",
    "    \n",
    "    # Obtiene el pivote (mediana de las medianas)\n",
    "    pivot_value = pivot (data, group_size, cutoff)\n",
    "    \n",
    "    # Obtiene las particiones utilizando el pivote \n",
    "    s_1, pivot_value, s_2 = partition (data, pivot_value)\n",
    "\n",
    "    pivot_index = len(s_1)\n",
    "    #print (f'index:{pivot_index}, k:{k}, data: {s_1} , {pivot_value},  {s_2}')\n",
    "\n",
    "    if (k-1) == pivot_index  :\n",
    "        return pivot_value\n",
    "    elif (k-1) < pivot_index :\n",
    "        return QSelect5 (s_1, k)\n",
    "    else:\n",
    "        return QSelect5 (s_2, k-pivot_index-1)"
   ]
  },
  {
   "cell_type": "code",
   "execution_count": 14,
   "id": "6a692a9f",
   "metadata": {},
   "outputs": [
    {
     "data": {
      "text/plain": [
       "([4, 5, 2], 6, [8, 7, 9])"
      ]
     },
     "execution_count": 14,
     "metadata": {},
     "output_type": "execute_result"
    }
   ],
   "source": [
    "import numpy as np, array\n",
    "from typing import List, Tuple\n",
    "\n",
    "def split(t: List) -> Tuple[List, int, List]:\n",
    "    mid = t[0]\n",
    "    t_l = [u for u in t if u < mid]\n",
    "    t_r = [u for u in t if u > mid]\n",
    "    return (t_l, mid, t_r)\n",
    "\n",
    "h = [6,8,7,4,5,9,2]\n",
    "\n",
    "split(h)\n",
    "\n"
   ]
  },
  {
   "cell_type": "code",
   "execution_count": 15,
   "id": "41c0bf4f",
   "metadata": {},
   "outputs": [
    {
     "name": "stdout",
     "output_type": "stream",
     "text": [
      "TERCER IF\n",
      "PRIMER IF\n"
     ]
    },
    {
     "data": {
      "text/plain": [
       "8"
      ]
     },
     "execution_count": 15,
     "metadata": {},
     "output_type": "execute_result"
    }
   ],
   "source": [
    "import numpy as np\n",
    "from typing import List, Tuple, Dict, Callable, Iterable,Union\n",
    "def qsel(t: np.ndarray, k: int)-> Union[int, None]:\n",
    "    if len(t) == 1 and k == 0:\n",
    "        return t[0]\n",
    "    t_l, mid, t_r = split(t)\n",
    "    m = len(t_l)\n",
    "    if k == m:\n",
    "        print(\"PRIMER IF\")\n",
    "        return mid\n",
    "    elif k < m:\n",
    "        print(\"SEGUNDO IF\")\n",
    "        return qsel(t_l, k)\n",
    "    else:\n",
    "        print(\"TERCER IF\")\n",
    "        return qsel(t_r, k-m-1)\n",
    "\n",
    "h = [6,8,7,4,5,9,5]\n",
    "\n",
    "qsel(h, 5)"
   ]
  },
  {
   "cell_type": "code",
   "execution_count": null,
   "id": "ceb7ee39",
   "metadata": {},
   "outputs": [],
   "source": []
  },
  {
   "cell_type": "code",
   "execution_count": 20,
   "id": "6d3769c2",
   "metadata": {},
   "outputs": [
    {
     "data": {
      "text/plain": [
       "7"
      ]
     },
     "execution_count": 20,
     "metadata": {},
     "output_type": "execute_result"
    }
   ],
   "source": [
    "from typing import List, Tuple, Dict, Callable, Iterable,Union\n",
    "def split_pivot(t: np.ndarray, mid: int)-> Tuple[np.ndarray, int, np.ndarray]:\n",
    "    t_l = [u for u in t if u < mid]\n",
    "    t_r = [u for u in t if u > mid]\n",
    "    return (t_l, mid, t_r)\n",
    "\n",
    "def QSel5_nr (data:List, k:int) -> Union[int, None]:\n",
    "    cutoff = 5\n",
    "    \n",
    "    if len(data) <= cutoff:\n",
    "        return sorted(data)[k-1]\n",
    "    else:\n",
    "        pivot_value = pivot5(data)\n",
    "    \n",
    "        s_1, pivot_value, s_2 = split_pivot(data, pivot_value)\n",
    "\n",
    "        pivot_index = len(s_1)\n",
    "\n",
    "        if (k-1) == pivot_index  :\n",
    "            return pivot_value\n",
    "        elif (k-1) < pivot_index :\n",
    "            return QSel5_nr (s_1, k)\n",
    "        else:\n",
    "            return QSel5_nr (s_2, k-pivot_index-1)\n",
    "\n",
    "h = [6,8,7,4,5,9,2]\n",
    "\n",
    "QSel5_nr(h, 5)\n",
    "        "
   ]
  },
  {
   "cell_type": "code",
   "execution_count": null,
   "id": "e390ef96",
   "metadata": {},
   "outputs": [],
   "source": [
    "def QSel5_nr (data:List, k:int) -> Union[int, None]:\n",
    "    if len(data)=0:\n",
    "        return data[0]"
   ]
  },
  {
   "cell_type": "code",
   "execution_count": 20,
   "id": "a1edbb0d",
   "metadata": {},
   "outputs": [
    {
     "data": {
      "text/plain": [
       "8"
      ]
     },
     "execution_count": 20,
     "metadata": {},
     "output_type": "execute_result"
    }
   ],
   "source": [
    "def qsel_nr(t: np.ndarray, k: int)-> Union[int, None]:\n",
    "    if(k < 0 or t is None):\n",
    "        return None\n",
    "    \n",
    "    if(len(t)==1):\n",
    "        return t[0]\n",
    "    else:\n",
    "        t1, p, t2 = split(t)\n",
    "        m = len(t1)\n",
    "\n",
    "        if k==m:\n",
    "            ret = p\n",
    "        elif k<m:\n",
    "            ret = qsel_nr(t1, k)\n",
    "        elif k>m:\n",
    "            ret = qsel_nr(t2, k-m-1)\n",
    "\n",
    "    return ret\n",
    "        \n",
    "\n",
    "h = [6,8,7,4,5,9,2]\n",
    "\n",
    "qsel_nr(h, 5)\n"
   ]
  },
  {
   "cell_type": "code",
   "execution_count": 17,
   "id": "0ee0bd86",
   "metadata": {},
   "outputs": [
    {
     "data": {
      "text/plain": [
       "([6, 4, 5, 2], 7, [8, 9])"
      ]
     },
     "execution_count": 17,
     "metadata": {},
     "output_type": "execute_result"
    }
   ],
   "source": [
    "import numpy as np\n",
    "from typing import List, Tuple, Dict, Callable, Iterable,Union\n",
    "\n",
    "def split_pivot(t: np.ndarray, mid: int)-> Tuple[np.ndarray, int, np.ndarray]:\n",
    "    t_l = [u for u in t if u < mid]\n",
    "    t_r = [u for u in t if u > mid]\n",
    "    return (t_l, mid, t_r)\n",
    "\n",
    "h = [6,8,7,4,5,9,2]\n",
    "\n",
    "split_pivot(h,7)\n"
   ]
  },
  {
   "cell_type": "code",
   "execution_count": 31,
   "id": "66c4317a",
   "metadata": {},
   "outputs": [
    {
     "data": {
      "text/plain": [
       "4"
      ]
     },
     "execution_count": 31,
     "metadata": {},
     "output_type": "execute_result"
    }
   ],
   "source": [
    "import numpy as np\n",
    "\n",
    "def pivot5(t: np.ndarray)-> int:\n",
    "    if len(t)>0 and len(t)<=5:\n",
    "        return int(np.median(t))\n",
    "    elif len(t)==0:\n",
    "        return None\n",
    "    else:\n",
    "        return int(np.median([pivot5(t[i:i+5]) for i in range(0, len(t), 5)]))\n",
    "    \n",
    "\n",
    "h = [9,7,3,5,1,2,0,6,4,8]\n",
    "\n",
    "pivot5(h)"
   ]
  },
  {
   "cell_type": "code",
   "execution_count": 21,
   "id": "e8c112ca",
   "metadata": {},
   "outputs": [
    {
     "data": {
      "text/plain": [
       "7"
      ]
     },
     "execution_count": 21,
     "metadata": {},
     "output_type": "execute_result"
    }
   ],
   "source": [
    "from typing import List, Tuple, Dict, Callable, Iterable,Union\n",
    "def QSelect5 (data:List, k:int) -> Union[int, None]:\n",
    "    cutoff = 5\n",
    "    \n",
    "    if len(data) <= cutoff:\n",
    "        return sorted(data)[k-1]\n",
    "    \n",
    "    pivot_value = pivot5(data)\n",
    "    \n",
    "    s_1, pivot_value, s_2 = split_pivot(data, pivot_value)\n",
    "\n",
    "    pivot_index = len(s_1)\n",
    "\n",
    "    if (k-1) == pivot_index  :\n",
    "        return pivot_value\n",
    "    elif (k-1) < pivot_index :\n",
    "        return QSelect5 (s_1, k)\n",
    "    else:\n",
    "        return QSelect5 (s_2, k-pivot_index-1)\n",
    "    \n",
    "h = [6,8,7,4,5,9,2]\n",
    "\n",
    "QSelect5(h, 5)"
   ]
  },
  {
   "cell_type": "code",
   "execution_count": 11,
   "id": "65940abf",
   "metadata": {},
   "outputs": [
    {
     "name": "stdout",
     "output_type": "stream",
     "text": [
      "2\n"
     ]
    }
   ],
   "source": [
    "import numpy as np\n",
    "\n",
    "def edit_distance(str_1: str, str_2: str)-> int:\n",
    "    D = np.zeros((len(str_1)+1, len(str_2)+1), dtype=int)\n",
    "    D[0, 1:] = range(1, len(str_2)+1)\n",
    "    D[1:, 0] = range(1, len(str_1)+1)\n",
    "    \n",
    "    for i in range(1, len(str_1)+1):\n",
    "        for j in range(1, len(str_2)+1):\n",
    "            if (str_1[i-1] == str_2[j-1]):\n",
    "                D[i,j] = D[i-1, j-1]\n",
    "            else :\n",
    "                D[i, j] = min(D[i-1, j-1]+1, D[i-1, j]+1, D[i, j-1]+1)\n",
    "    \n",
    "    return D[-1, -1]\n",
    "\n",
    "# ----- Driver program ------\n",
    "y = \"cosa\"\n",
    "x = \"caso\"\n",
    "\n",
    "D = D = edit_distance(x, y)\n",
    "print(D)"
   ]
  },
  {
   "cell_type": "code",
   "execution_count": 13,
   "id": "665e1d47",
   "metadata": {},
   "outputs": [
    {
     "ename": "TypeError",
     "evalue": "LCS_print() missing 1 required positional argument: 'j'",
     "output_type": "error",
     "traceback": [
      "\u001b[0;31m---------------------------------------------------------------------------\u001b[0m",
      "\u001b[0;31mTypeError\u001b[0m                                 Traceback (most recent call last)",
      "Cell \u001b[0;32mIn [13], line 32\u001b[0m\n\u001b[1;32m     29\u001b[0m x \u001b[39m=\u001b[39m \u001b[39m\"\u001b[39m\u001b[39mABCBDAB\u001b[39m\u001b[39m\"\u001b[39m\n\u001b[1;32m     31\u001b[0m e \u001b[39m=\u001b[39m max_subsequence_length(x, y)\n\u001b[0;32m---> 32\u001b[0m LCS_print(e, \u001b[39mlen\u001b[39m(x), \u001b[39mlen\u001b[39m(y))\n",
      "\u001b[0;31mTypeError\u001b[0m: LCS_print() missing 1 required positional argument: 'j'"
     ]
    }
   ],
   "source": [
    "import numpy as np, array\n",
    "\n",
    "def max_subsequence_length(str_1: str, str_2: str)-> int:\n",
    "    e = np.zeros((len(str_1)+1, len(str_2)+1), dtype=int)\n",
    "    \n",
    "    for i in range(1, len(str_1)+1):\n",
    "        for j in range(1, len(str_2)+1):\n",
    "            if (str_1[i-1] == str_2[j-1]):\n",
    "                e[i,j] = 1 + e[i-1, j-1]    \n",
    "            else :\n",
    "                e[i, j] = max(e[i-1, j], e[i, j-1])\n",
    "    return e\n",
    "\n",
    "def LCS_print (B:np.array, x:str, i:int, j:int):\n",
    "    if i==0 or j==0:\n",
    "        return\n",
    "    \n",
    "    if B[i, j] == 'D':\n",
    "        LCS_print (B, x, i-1, j-1)\n",
    "        print(x[i-1], end='')\n",
    "\n",
    "    elif B[i, j] == 'U':\n",
    "        LCS_print (B, x, i-1, j)\n",
    "\n",
    "    elif B[i, j] == 'L':\n",
    "        LCS_print (B, x, i, j-1)\n",
    "\n",
    "y = \"BDCABA\"\n",
    "x = \"ABCBDAB\"\n",
    "\n",
    "e = max_subsequence_length(x, y)\n",
    "LCS_print(e, len(x), len(y))\n"
   ]
  },
  {
   "cell_type": "code",
   "execution_count": 58,
   "id": "c09dbfd1",
   "metadata": {},
   "outputs": [
    {
     "name": "stdout",
     "output_type": "stream",
     "text": [
      "BCBA\n",
      "None\n"
     ]
    }
   ],
   "source": [
    "import numpy as np, array\n",
    "from typing import List, Tuple, Dict, Callable, Iterable,Union\n",
    "\n",
    "def LCS (x:str, y:str)->str:\n",
    "    e = np.zeros((len(x)+1, len(y)+1), dtype=int)\n",
    "    b = np.empty((len(x)+1, len(y)+1), dtype=str)\n",
    "    \n",
    "    for i in range(1, len(x)+1):\n",
    "        for j in range(1, len(y)+1):\n",
    "            if (x[i-1] == y[j-1]):\n",
    "                e[i,j] = 1 + e[i-1, j-1]\n",
    "                b[i,j] = 'D'\n",
    "                  \n",
    "            else :\n",
    "                inputlist = (e[i-1, j], e[i, j-1])\n",
    "                max_value = max(inputlist)\n",
    "                max_index=inputlist.index(max_value)\n",
    "                e[i, j], index = max_value, max_index\n",
    "                b[i, j] = 'L' if index else 'U'\n",
    "\n",
    "\n",
    "    def LCS_print (B:np.array, x:str, i:int, j:int, string:str)->str:\n",
    "        if i==0 or j==0:\n",
    "            string = string[::-1]\n",
    "            print(string)\n",
    "            return string\n",
    "        if B[i, j] == 'D':\n",
    "            string = string + x[i-1]\n",
    "            LCS_print (B, x, i-1, j-1, string)\n",
    "            string = string + x[i-1]\n",
    "        elif B[i, j] == 'U':\n",
    "            LCS_print (B, x, i-1, j, string)\n",
    "        elif B[i, j] == 'L':\n",
    "            LCS_print (B, x, i, j-1, string)\n",
    "\n",
    "    vacio = \"\"\n",
    "\n",
    "    return LCS_print(b, x, len(x), len(y), vacio)\n",
    "    \n",
    "    \n",
    "\n",
    "y = \"BDCABA\"\n",
    "x = \"ABCBDAB\"\n",
    "\n",
    "print(LCS(x, y))\n",
    "\n",
    "\n",
    "\n"
   ]
  },
  {
   "cell_type": "code",
   "execution_count": null,
   "id": "60db4858",
   "metadata": {},
   "outputs": [],
   "source": [
    "def min_mult_matrix(l_dims: List[int])-> int:\n",
    "    \"\"\"Primero hay que comprobar qeu compartan los numeros para ver si se pueden multiplicar, se hace la matriz y desed ahi se busca el camino optimo\n",
    "    para poder hacer las operaciones, el camino optimo va a ser la solucion de esta funcion siendo las multiplicaciones minimas que necesitas para\n",
    "    hacer las multiplicaciones de las matrices que te daa\"\"\"\n",
    "    \"\"\"Al multiplicar dos matrices M1 de tamaño NxM y M2 de tamaño MxK el número de multiplicaciones escalares es N*M*K. La cantidad total de \n",
    "    multiplicaciones será, la suma de todas las multiplicaciones que hacen falta para multiplicar cada submatriz obtenida como resultado con \n",
    "    la siguiente en el orden escogido.\"\"\"\n",
    "    \n",
    "\n",
    "    "
   ]
  },
  {
   "cell_type": "code",
   "execution_count": 24,
   "id": "fdc2d118",
   "metadata": {},
   "outputs": [
    {
     "name": "stdout",
     "output_type": "stream",
     "text": [
      "Welcome to GeeksforGeeks "
     ]
    }
   ],
   "source": [
    "print(\"Welcome to\", end = ' ')\n",
    "print(\"GeeksforGeeks\", end= ' ')"
   ]
  },
  {
   "cell_type": "code",
   "execution_count": 46,
   "id": "67b21bb2",
   "metadata": {},
   "outputs": [
    {
     "ename": "IndexError",
     "evalue": "string index out of range",
     "output_type": "error",
     "traceback": [
      "\u001b[0;31m---------------------------------------------------------------------------\u001b[0m",
      "\u001b[0;31mIndexError\u001b[0m                                Traceback (most recent call last)",
      "Cell \u001b[0;32mIn [46], line 4\u001b[0m\n\u001b[1;32m      2\u001b[0m luis \u001b[39m=\u001b[39m \u001b[39m\"\u001b[39m\u001b[39mMARICON\u001b[39m\u001b[39m\"\u001b[39m\n\u001b[1;32m      3\u001b[0m \u001b[39mfor\u001b[39;00m i \u001b[39min\u001b[39;00m \u001b[39mrange\u001b[39m(\u001b[39mlen\u001b[39m(luis)):\n\u001b[0;32m----> 4\u001b[0m     vacia \u001b[39m=\u001b[39m vacia[i] \u001b[39m+\u001b[39m luis[i]\n\u001b[1;32m      6\u001b[0m \u001b[39mprint\u001b[39m(vacia)\n",
      "\u001b[0;31mIndexError\u001b[0m: string index out of range"
     ]
    }
   ],
   "source": [
    "vacia = \" hola \"\n",
    "luis = \"MARICON\"\n",
    "for i in range(len(luis)):\n",
    "    vacia = vacia[i] + luis[i]\n",
    "\n",
    "print(vacia)"
   ]
  }
 ],
 "metadata": {
  "kernelspec": {
   "display_name": "Python 3.9.12 ('base')",
   "language": "python",
   "name": "python3"
  },
  "language_info": {
   "codemirror_mode": {
    "name": "ipython",
    "version": 3
   },
   "file_extension": ".py",
   "mimetype": "text/x-python",
   "name": "python",
   "nbconvert_exporter": "python",
   "pygments_lexer": "ipython3",
   "version": "3.9.12"
  },
  "vscode": {
   "interpreter": {
    "hash": "e8fac7edbe3fc3ee8dc4af7fb9891cac1e2a78a800a1446a0d4fe2e2c052a0fd"
   }
  }
 },
 "nbformat": 4,
 "nbformat_minor": 5
}
