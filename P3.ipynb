{
 "cells": [
  {
   "cell_type": "code",
   "execution_count": 41,
   "metadata": {},
   "outputs": [
    {
     "data": {
      "text/plain": [
       "([4, 5, 2], 6, [8, 7, 9])"
      ]
     },
     "execution_count": 41,
     "metadata": {},
     "output_type": "execute_result"
    }
   ],
   "source": [
    "import numpy as np\n",
    "from typing import List, Tuple\n",
    "\n",
    "def split(t: List) -> Tuple[List, int, List]:\n",
    "    mid = t[0]\n",
    "    t_l = [u for u in t if u < mid]\n",
    "    t_r = [u for u in t if u > mid]\n",
    "    return (t_l, mid, t_r)\n",
    "\n",
    "h = [6,8,7,4,5,9,2]\n",
    "\n",
    "split(h)\n",
    "\n"
   ]
  },
  {
   "cell_type": "code",
   "execution_count": 63,
   "id": "41c0bf4f",
   "metadata": {},
   "outputs": [
    {
     "data": {
      "text/plain": [
       "8"
      ]
     },
     "execution_count": 63,
     "metadata": {},
     "output_type": "execute_result"
    }
   ],
   "source": [
    "import numpy as np\n",
    "from typing import List, Tuple, Dict, Callable, Iterable,Union\n",
    "def qsel(t: np.ndarray, k: int)-> Union[int, None]:\n",
    "    if len(t) == 1 and k == 0:\n",
    "        return t[0]\n",
    "    t_l, mid, t_r = split(t)\n",
    "    m = len(t_l)\n",
    "    if k == m:\n",
    "        return mid\n",
    "    elif k < m:\n",
    "        return qsel(t_l, k)\n",
    "    else:\n",
    "        return qsel(t_r, k-m-1)\n",
    "\n",
    "h = [6,8,7,4,5,9,2]\n",
    "\n",
    "qsel(h, 5)"
   ]
  },
  {
   "cell_type": "code",
   "execution_count": 45,
   "id": "a1edbb0d",
   "metadata": {},
   "outputs": [
    {
     "ename": "IndentationError",
     "evalue": "expected an indented block (<ipython-input-45-90ae6c8129b7>, line 1)",
     "output_type": "error",
     "traceback": [
      "\u001b[0;36m  Cell \u001b[0;32mIn [45], line 1\u001b[0;36m\u001b[0m\n\u001b[0;31m    def qsel_nr(t: np.ndarray, k: int)-> Union[int, None]:\u001b[0m\n\u001b[0m                                                           ^\u001b[0m\n\u001b[0;31mIndentationError\u001b[0m\u001b[0;31m:\u001b[0m expected an indented block\n"
     ]
    }
   ],
   "source": [
    "def qsel_nr(t: np.ndarray, k: int)-> Union[int, None]: "
   ]
  },
  {
   "cell_type": "code",
   "execution_count": 3,
   "id": "0ee0bd86",
   "metadata": {},
   "outputs": [
    {
     "ename": "NameError",
     "evalue": "name 'Tuple' is not defined",
     "output_type": "error",
     "traceback": [
      "\u001b[0;31m---------------------------------------------------------------------------\u001b[0m",
      "\u001b[0;31mNameError\u001b[0m                                 Traceback (most recent call last)",
      "Cell \u001b[0;32mIn [3], line 3\u001b[0m\n\u001b[1;32m      1\u001b[0m \u001b[39mimport\u001b[39;00m \u001b[39mnumpy\u001b[39;00m \u001b[39mas\u001b[39;00m \u001b[39mnp\u001b[39;00m\n\u001b[0;32m----> 3\u001b[0m \u001b[39mdef\u001b[39;00m \u001b[39msplit_pivot\u001b[39m(t: np\u001b[39m.\u001b[39mndarray, mid: \u001b[39mint\u001b[39m)\u001b[39m-\u001b[39m\u001b[39m>\u001b[39m Tuple[np\u001b[39m.\u001b[39mndarray, \u001b[39mint\u001b[39m, np\u001b[39m.\u001b[39mndarray]:\n\u001b[1;32m      4\u001b[0m     t_l \u001b[39m=\u001b[39m [u \u001b[39mfor\u001b[39;00m u \u001b[39min\u001b[39;00m t \u001b[39mif\u001b[39;00m u \u001b[39m<\u001b[39m mid]\n\u001b[1;32m      5\u001b[0m     t_r \u001b[39m=\u001b[39m [u \u001b[39mfor\u001b[39;00m u \u001b[39min\u001b[39;00m t \u001b[39mif\u001b[39;00m u \u001b[39m>\u001b[39m mid]\n",
      "\u001b[0;31mNameError\u001b[0m: name 'Tuple' is not defined"
     ]
    }
   ],
   "source": [
    "import numpy as np\n",
    "from typing import List, Tuple, Dict, Callable, Iterable,Union\n",
    "\n",
    "def split_pivot(t: np.ndarray, mid: int)-> Tuple[np.ndarray, int, np.ndarray]:\n",
    "    t_l = [u for u in t if u < mid]\n",
    "    t_r = [u for u in t if u > mid]\n",
    "    return (t_l, mid, t_r)\n",
    "\n",
    "h = [6,8,7,4,5,9,2]\n",
    "\n",
    "split_pivot(h,7)\n"
   ]
  },
  {
   "cell_type": "code",
   "execution_count": 2,
   "id": "66c4317a",
   "metadata": {},
   "outputs": [
    {
     "data": {
      "text/plain": [
       "6"
      ]
     },
     "execution_count": 2,
     "metadata": {},
     "output_type": "execute_result"
    }
   ],
   "source": [
    "import numpy as np\n",
    "\n",
    "def pivot5(t: np.ndarray)-> int:\n",
    "    '''Calculate the medians of medians'''\n",
    "    n_group = len(t) // 5\n",
    "    index_median = 5 // 2 \n",
    "    cutoff = 5\n",
    "    \n",
    "    # (paso 1) Lista con los grupos de tamaño group_size. \n",
    "    # Si un grupo es < group_size no se incluye\n",
    "    sublists =  [t[j:j+ 5] for j in range(0, len(t), 5)][:n_group]\n",
    "    \n",
    "    # (paso 2) Lista con las medianas de los grupos\n",
    "    medians = [sorted(sub)[index_median] for sub in sublists]\n",
    "    \n",
    "    # (paso 3) calcula la mediana de las medianas. \n",
    "    # Si la lista tiene un tamaño menor que el cutff se ordena, sino se invoca QSelect\n",
    "\n",
    "    if len(medians) <= cutoff:\n",
    "        pivot = sorted(medians)[len(medians)//2]\n",
    "    else:\n",
    "        pivot = QSelect5 (medians, len(medians)//2)\n",
    "        \n",
    "    return pivot\n",
    "    \n",
    "\n",
    "h = [6,8,7,4,5,0,2,1,11,10,5,6,7,8,9]\n",
    "\n",
    "pivot5(h)"
   ]
  },
  {
   "cell_type": "code",
   "execution_count": 74,
   "id": "e8c112ca",
   "metadata": {},
   "outputs": [],
   "source": [
    "def QSelect5 (data:List, k:int) -> Union[int, None]:\n",
    "    ''' No admite elementos repetidos\n",
    "    Importante: cutoff >= group_size'''\n",
    "    group_size = 5\n",
    "    cutoff = 5\n",
    "    \n",
    "    # Caso base (con cutoff)\n",
    "    if len(data) <= cutoff:\n",
    "        return sorted(data)[k-1]\n",
    "    \n",
    "    # Obtiene el pivote (mediana de las medianas)\n",
    "    pivot_value = pivot (data, group_size, cutoff)\n",
    "    \n",
    "    # Obtiene las particiones utilizando el pivote \n",
    "    s_1, pivot_value, s_2 = partition (data, pivot_value)\n",
    "\n",
    "    pivot_index = len(s_1)\n",
    "    #print (f'index:{pivot_index}, k:{k}, data: {s_1} , {pivot_value},  {s_2}')\n",
    "\n",
    "    if (k-1) == pivot_index  :\n",
    "        return pivot_value\n",
    "    elif (k-1) < pivot_index :\n",
    "        return QSelect5 (s_1, k)\n",
    "    else:\n",
    "        return QSelect5 (s_2, k-pivot_index-1)"
   ]
  },
  {
   "cell_type": "code",
   "execution_count": null,
   "id": "65940abf",
   "metadata": {},
   "outputs": [],
   "source": []
  }
 ],
 "metadata": {
  "kernelspec": {
   "display_name": "Python 3.9.12 ('base')",
   "language": "python",
   "name": "python3"
  },
  "language_info": {
   "codemirror_mode": {
    "name": "ipython",
    "version": 3
   },
   "file_extension": ".py",
   "mimetype": "text/x-python",
   "name": "python",
   "nbconvert_exporter": "python",
   "pygments_lexer": "ipython3",
   "version": "3.9.12"
  },
  "vscode": {
   "interpreter": {
    "hash": "e8fac7edbe3fc3ee8dc4af7fb9891cac1e2a78a800a1446a0d4fe2e2c052a0fd"
   }
  }
 },
 "nbformat": 4,
 "nbformat_minor": 5
}
