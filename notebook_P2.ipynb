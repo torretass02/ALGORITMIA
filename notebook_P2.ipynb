{
 "cells": [
  {
   "cell_type": "code",
   "execution_count": 45,
   "id": "cf40523c",
   "metadata": {},
   "outputs": [
    {
     "name": "stdout",
     "output_type": "stream",
     "text": [
      "[-1 -1 -1 -1 -1]\n"
     ]
    }
   ],
   "source": [
    "'INIT'\n",
    "\n",
    "import numpy as np\n",
    "def init_cd(n: int)-> np.ndarray:\n",
    "    arr = np.ones(n).astype(int)*-1\n",
    "    return arr\n",
    "\n",
    "a = 5\n",
    "f = init_cd(a)\n",
    "\n",
    "print(f)"
   ]
  },
  {
   "cell_type": "code",
   "execution_count": 40,
   "id": "ec1de871",
   "metadata": {},
   "outputs": [
    {
     "name": "stdout",
     "output_type": "stream",
     "text": [
      "0\n",
      "0\n",
      "0\n"
     ]
    }
   ],
   "source": [
    "'UNION'\n",
    "\n",
    "import numpy as np\n",
    "def find(ind: int, p_cd: np.ndarray)-> int:\n",
    "    #z = ind\n",
    "    #while p_cd[z] >= -1:\n",
    "    #        z = p_cd[z]\n",
    "    #while p_cd[ind] > -1:\n",
    "    #        y = p_cd[ind]\n",
    "    #        p[ind] = z\n",
    "    #        ind = y\n",
    "    #return z\n",
    "    while p_cd[ind] > -1:\n",
    "        ind = p_cd[ind]\n",
    "    return ind\n",
    "\n",
    "def union(rep_1: int, rep_2: int, p_cd: np.ndarray)-> int:\n",
    "    x = find (rep_1, p_cd)\n",
    "    y = find (rep_2, p_cd)\n",
    "        \n",
    "    if x == y:\n",
    "        return -1\n",
    "        \n",
    "    if p_cd[y] < p_cd[x]:\n",
    "        p_cd[x] = y\n",
    "        ret = y\n",
    "    elif p_cd[y] > p_cd[x]:\n",
    "        p_cd[y] = x\n",
    "        ret = x\n",
    "    else:\n",
    "        p_cd[y] = x\n",
    "        p_cd[x] -= 1\n",
    "        ret =  x   \n",
    "    return ret\n",
    "\n",
    "p =np.array([-2, 0, 1, -2, 3, 4, -1, -2, 7, 8])\n",
    "    \n",
    "h = union(find(1, p), find(5, p), p)\n",
    "print(h)\n",
    "h = union(find(2, p), find(6, p), p)\n",
    "print(h)\n",
    "h = union(find(5, p), find(9, p), p)\n",
    "print(h)"
   ]
  },
  {
   "cell_type": "code",
   "execution_count": 12,
   "id": "ff8ac24f",
   "metadata": {},
   "outputs": [
    {
     "name": "stdout",
     "output_type": "stream",
     "text": [
      "7\n"
     ]
    }
   ],
   "source": [
    "'FIND'\n",
    "\n",
    "import numpy as np\n",
    "\n",
    "def find(ind: int, p_cd: np.ndarray)-> int:\n",
    "    z = ind\n",
    "    \n",
    "    # get the root (representant)\n",
    "    while p_cd[z] >= 0:\n",
    "        z = p_cd[z]\n",
    "        \n",
    "    # compress the path from u to the root\n",
    "    while p_cd[ind] >= 0:\n",
    "        y = p_cd[ind]\n",
    "        p_cd[ind] = z\n",
    "        ind = y\n",
    "    return z\n",
    "\n",
    "\n",
    "p =np.array([-2, 0, 1, -2, 3, 4, -1, -2, 7, 8])\n",
    "h = find(9,p)\n",
    "print(h)"
   ]
  },
  {
   "cell_type": "code",
   "execution_count": 1,
   "id": "6bd5a8c6",
   "metadata": {},
   "outputs": [
    {
     "name": "stdout",
     "output_type": "stream",
     "text": [
      "{-2: [7, 8], -1: []}\n"
     ]
    }
   ],
   "source": [
    "'DICT'\n",
    "\n",
    "from typing import ItemsView\n",
    "import numpy as np\n",
    "def cd_2_dict(p_cd: np.ndarray)-> dict:\n",
    "    d = {}\n",
    "    for i in range(len(p_cd)):\n",
    "        if p_cd[i] < 0:\n",
    "            d[p_cd[i]] = []\n",
    "            key = p_cd[i]\n",
    "        else:\n",
    "            d[key] += [p_cd[i]]\n",
    "\n",
    "    return d\n",
    "\n",
    "p = np.array([-2, 0, 1, -2, 3, 4, -1, -2, 7, 8])\n",
    "dic = cd_2_dict(p)\n",
    "print(dic)\n"
   ]
  },
  {
   "cell_type": "code",
   "execution_count": 1,
   "id": "e26a255f",
   "metadata": {},
   "outputs": [
    {
     "name": "stdout",
     "output_type": "stream",
     "text": [
      "[-1 -1 -1 -1]\n"
     ]
    },
    {
     "ename": "IndexError",
     "evalue": "index 4 is out of bounds for axis 0 with size 4",
     "output_type": "error",
     "traceback": [
      "\u001b[0;31m---------------------------------------------------------------------------\u001b[0m",
      "\u001b[0;31mIndexError\u001b[0m                                Traceback (most recent call last)",
      "Cell \u001b[0;32mIn [1], line 41\u001b[0m\n\u001b[1;32m     37\u001b[0m     \u001b[39mreturn\u001b[39;00m d_cc\n\u001b[1;32m     39\u001b[0m g \u001b[39m=\u001b[39m [(\u001b[39m1\u001b[39m, \u001b[39m2\u001b[39m), (\u001b[39m1\u001b[39m, \u001b[39m3\u001b[39m), (\u001b[39m0\u001b[39m, \u001b[39m4\u001b[39m), (\u001b[39m4\u001b[39m, \u001b[39m5\u001b[39m)]\n\u001b[0;32m---> 41\u001b[0m d \u001b[39m=\u001b[39m ccs(\u001b[39m4\u001b[39m, g)\n\u001b[1;32m     42\u001b[0m \u001b[39mprint\u001b[39m(d)\n",
      "Cell \u001b[0;32mIn [1], line 27\u001b[0m, in \u001b[0;36mccs\u001b[0;34m(n, l)\u001b[0m\n\u001b[1;32m     25\u001b[0m \u001b[39mfor\u001b[39;00m u, v \u001b[39min\u001b[39;00m l:\n\u001b[1;32m     26\u001b[0m     r_u \u001b[39m=\u001b[39m find(u, p)\n\u001b[0;32m---> 27\u001b[0m     r_v \u001b[39m=\u001b[39m find(v, p)\n\u001b[1;32m     28\u001b[0m     \u001b[39mif\u001b[39;00m r_u \u001b[39m!=\u001b[39m r_v:\n\u001b[1;32m     29\u001b[0m         \u001b[39m#add (u, v) to the proper key in cc\u001b[39;00m\n\u001b[1;32m     30\u001b[0m         \u001b[39mif\u001b[39;00m u \u001b[39min\u001b[39;00m d_cc\u001b[39m.\u001b[39mkeys():\n",
      "Cell \u001b[0;32mIn [1], line 11\u001b[0m, in \u001b[0;36mfind\u001b[0;34m(ind, p_cd)\u001b[0m\n\u001b[1;32m      8\u001b[0m z \u001b[39m=\u001b[39m ind\n\u001b[1;32m     10\u001b[0m \u001b[39m# get the root (representant)\u001b[39;00m\n\u001b[0;32m---> 11\u001b[0m \u001b[39mwhile\u001b[39;00m p_cd[z] \u001b[39m>\u001b[39m\u001b[39m=\u001b[39m \u001b[39m0\u001b[39m:\n\u001b[1;32m     12\u001b[0m     z \u001b[39m=\u001b[39m p_cd[z]\n\u001b[1;32m     14\u001b[0m \u001b[39m# compress the path from u to the root\u001b[39;00m\n",
      "\u001b[0;31mIndexError\u001b[0m: index 4 is out of bounds for axis 0 with size 4"
     ]
    }
   ],
   "source": [
    "import numpy as np\n",
    "\n",
    "def init_cd(n: int)-> np.ndarray:\n",
    "    arr = np.ones(n).astype(int)*-1\n",
    "    return arr\n",
    "    \n",
    "def find(ind: int, p_cd: np.ndarray)-> int:\n",
    "    z = ind\n",
    "    \n",
    "    # get the root (representant)\n",
    "    while p_cd[z] >= 0:\n",
    "        z = p_cd[z]\n",
    "        \n",
    "    # compress the path from u to the root\n",
    "    while p_cd[ind] >= 0:\n",
    "        y = p_cd[ind]\n",
    "        p_cd[ind] = z\n",
    "        ind = y\n",
    "    return z\n",
    "\n",
    "def ccs(n: int, l: list)-> dict:\n",
    "    d_cc = {} \n",
    "    p = init_cd(len(l))\n",
    "    print(p)\n",
    "    for u, v in l:\n",
    "        r_u = find(u, p)\n",
    "        r_v = find(v, p)\n",
    "        if r_u != r_v:\n",
    "            #add (u, v) to the proper key in cc\n",
    "            if u in d_cc.keys():\n",
    "                d_cc[u].append((u, v))\n",
    "            elif v in d_cc.keys():\n",
    "                d_cc[v].append((u, v))\n",
    "            else:\n",
    "                d_cc[u] = []\n",
    "                d_cc[u].append((u, v))\n",
    "    return d_cc\n",
    "\n",
    "g = [(1, 2), (1, 3), (0, 4), (4, 5)]\n",
    "\n",
    "d = ccs(4, g)\n",
    "print(d)"
   ]
  },
  {
   "cell_type": "code",
   "execution_count": 33,
   "id": "5cb76597",
   "metadata": {},
   "outputs": [
    {
     "name": "stdout",
     "output_type": "stream",
     "text": [
      "[[ 0  6 15  0 18  7]\n",
      " [ 3  0  8 17  0  9]\n",
      " [15 19  0 15 10  6]\n",
      " [ 7  4  8  0  6 13]\n",
      " [ 9 14  6 19  0 17]\n",
      " [ 4  2 16  6 17  0]]\n"
     ]
    }
   ],
   "source": [
    "import numpy as np\n",
    "\n",
    "def dist_matrix(n_nodes: int, w_max=10)-> np.ndarray:\n",
    "    h = np.random.randint(w_max, size=(n_nodes, n_nodes))\n",
    "    np.fill_diagonal(h, 0)\n",
    "    return h \n",
    "\n",
    "f = dist_matrix(6, 20)\n",
    "print(f)"
   ]
  },
  {
   "cell_type": "code",
   "execution_count": 3,
   "id": "e81c0b1c",
   "metadata": {},
   "outputs": [
    {
     "name": "stdout",
     "output_type": "stream",
     "text": [
      "[0, 2, 4, 1, 3, 0]\n"
     ]
    }
   ],
   "source": [
    "import numpy as np\n",
    "\n",
    "def dist_matrix(n_nodes: int, w_max=10)-> np.ndarray:\n",
    "    h = np.random.randint(w_max, size=(n_nodes, n_nodes))\n",
    "    np.fill_diagonal(h, 0)\n",
    "    return h \n",
    "\n",
    "def greedy_tsp(dist_m: np.ndarray, node_ini=0)-> list:\n",
    "    num_cities = dist_m.shape[0]\n",
    "    circuit = [node_ini]\n",
    "    while len(circuit) < num_cities:\n",
    "        current_city = circuit[-1]\n",
    "        # sort cities in ascending distance from current\n",
    "        options = list( np.argsort(dist_m[ current_city ]) )\n",
    "        # add first city in sorted list not visited yet\n",
    "        for city in options:\n",
    "            if city not in circuit:\n",
    "                circuit.append(city)\n",
    "                break\n",
    "    return circuit + [node_ini]\n",
    "\n",
    "f = np.array([\n",
    "    [0, 2, 1, 10, 25],\n",
    "    [2, 0, 18, 5, 5],\n",
    "    [1, 18, 0, 20, 2],\n",
    "    [10, 5, 20, 0, 8],\n",
    "    [25, 5, 2, 8, 0]])\n",
    "circuit = greedy_tsp(f)\n",
    "print(circuit)\n"
   ]
  },
  {
   "cell_type": "code",
   "execution_count": 1,
   "id": "a41fa4c5",
   "metadata": {},
   "outputs": [
    {
     "name": "stdout",
     "output_type": "stream",
     "text": [
      "18\n"
     ]
    }
   ],
   "source": [
    "import numpy as np\n",
    "\n",
    "def dist_matrix(n_nodes: int, w_max=10)-> np.ndarray:\n",
    "    h = np.random.randint(w_max, size=(n_nodes, n_nodes))\n",
    "    np.fill_diagonal(h, 0)\n",
    "    return h \n",
    "\n",
    "def greedy_tsp(dist_m: np.ndarray, node_ini=0)-> list:\n",
    "    num_cities = dist_m.shape[0]\n",
    "    circuit = [node_ini]\n",
    "    while len(circuit) < num_cities:\n",
    "        current_city = circuit[-1]\n",
    "        # sort cities in ascending distance from current\n",
    "        options = list( np.argsort(dist_m[ current_city ]) )\n",
    "        # add first city in sorted list not visited yet\n",
    "        for city in options:\n",
    "            if city not in circuit:\n",
    "                circuit.append(city)\n",
    "                break\n",
    "    return circuit + [node_ini]\n",
    "\n",
    "def len_circuit(circuit: list, dist_m: np.ndarray)-> int:\n",
    "    longitud = 0\n",
    "    for i in range(len(dist_m)):\n",
    "        longitud += dist_m[circuit[i]][circuit[i+1]]\n",
    "    return longitud\n",
    "\n",
    "f = np.array([\n",
    "    [0, 2, 1, 10, 25],\n",
    "    [2, 0, 18, 5, 5],\n",
    "    [1, 18, 0, 20, 2],\n",
    "    [10, 5, 20, 0, 8],\n",
    "    [25, 5, 2, 8, 0]])\n",
    "\n",
    "circuit = greedy_tsp(f, 1)\n",
    "\n",
    "len = len_circuit(circuit, f)\n",
    "\n",
    "print(len)\n",
    "    "
   ]
  },
  {
   "cell_type": "code",
   "execution_count": 5,
   "id": "37424ae7",
   "metadata": {},
   "outputs": [
    {
     "name": "stdout",
     "output_type": "stream",
     "text": [
      "[1, 0, 2, 4, 3, 1]\n"
     ]
    }
   ],
   "source": [
    "import numpy as np\n",
    "\n",
    "def dist_matrix(n_nodes: int, w_max=10)-> np.ndarray:\n",
    "    h = np.random.randint(w_max, size=(n_nodes, n_nodes))\n",
    "    np.fill_diagonal(h, 0)\n",
    "    return h \n",
    "\n",
    "def len_circuit(circuit: list, dist_m: np.ndarray)-> int:\n",
    "    longitud = 0\n",
    "    for i in range(len(dist_m)):\n",
    "        longitud += dist_m[circuit[i]][circuit[i+1]]\n",
    "    return longitud\n",
    "\n",
    "def greedy_tsp(dist_m: np.ndarray, node_ini=0)-> list:\n",
    "    num_cities = dist_m.shape[0]\n",
    "    circuit = [node_ini]\n",
    "    while len(circuit) < num_cities:\n",
    "        current_city = circuit[-1]\n",
    "        # sort cities in ascending distance from current\n",
    "        options = list( np.argsort(dist_m[ current_city ]) )\n",
    "        # add first city in sorted list not visited yet\n",
    "        for city in options:\n",
    "            if city not in circuit:\n",
    "                circuit.append(city)\n",
    "                break\n",
    "    return circuit + [node_ini]\n",
    "\n",
    "def repeated_greedy_tsp(dist_m: np.ndarray)-> list:\n",
    "    aux = []\n",
    "    a = []\n",
    "    for i in range(len(dist_m)):\n",
    "        aux.append(greedy_tsp(dist_m, i))\n",
    "        a.append(len_circuit(aux[i], dist_m))\n",
    "        if a[i]-a[i-1]:\n",
    "            circuito = aux[i]\n",
    "        \n",
    "    return circuito\n",
    "\n",
    "f = np.array([\n",
    "    [0, 2, 1, 10, 25],\n",
    "    [2, 0, 18, 5, 5],\n",
    "    [1, 18, 0, 20, 2],\n",
    "    [10, 5, 20, 0, 8],\n",
    "    [25, 6, 2, 8, 0]])\n",
    "circuit = repeated_greedy_tsp(f)\n",
    "print(circuit)"
   ]
  },
  {
   "cell_type": "code",
   "execution_count": 16,
   "id": "9589b5e1",
   "metadata": {},
   "outputs": [
    {
     "name": "stdout",
     "output_type": "stream",
     "text": [
      "(1, 2, 3)\n",
      "(1, 3, 2)\n",
      "(2, 1, 3)\n",
      "(2, 3, 1)\n",
      "(3, 1, 2)\n",
      "(3, 2, 1)\n"
     ]
    }
   ],
   "source": [
    "from itertools import permutations\n",
    "import numpy as np\n",
    "\n",
    "a = np.array([1,2,3])\n",
    "p = permutations(a)\n",
    "\n",
    "for j in list(p):\n",
    "  print(j)"
   ]
  }
 ],
 "metadata": {
  "kernelspec": {
   "display_name": "Python 3 (ipykernel)",
   "language": "python",
   "name": "python3"
  },
  "language_info": {
   "codemirror_mode": {
    "name": "ipython",
    "version": 3
   },
   "file_extension": ".py",
   "mimetype": "text/x-python",
   "name": "python",
   "nbconvert_exporter": "python",
   "pygments_lexer": "ipython3",
   "version": "3.9.12"
  },
  "vscode": {
   "interpreter": {
    "hash": "e8fac7edbe3fc3ee8dc4af7fb9891cac1e2a78a800a1446a0d4fe2e2c052a0fd"
   }
  }
 },
 "nbformat": 4,
 "nbformat_minor": 5
}
