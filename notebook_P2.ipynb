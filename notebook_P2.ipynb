{
 "cells": [
  {
   "cell_type": "code",
   "execution_count": 45,
   "id": "cf40523c",
   "metadata": {},
   "outputs": [
    {
     "name": "stdout",
     "output_type": "stream",
     "text": [
      "[-1 -1 -1 -1 -1]\n"
     ]
    }
   ],
   "source": [
    "'INIT'\n",
    "\n",
    "import numpy as np\n",
    "def init_cd(n: int)-> np.ndarray:\n",
    "    arr = np.ones(n).astype(int)*-1\n",
    "    return arr\n",
    "\n",
    "a = 5\n",
    "f = init_cd(a)\n",
    "\n",
    "print(f)"
   ]
  },
  {
   "cell_type": "code",
   "execution_count": 53,
   "id": "ec1de871",
   "metadata": {},
   "outputs": [
    {
     "name": "stdout",
     "output_type": "stream",
     "text": [
      "0\n",
      "0\n",
      "0\n"
     ]
    }
   ],
   "source": [
    "'UNION'\n",
    "\n",
    "import numpy as np\n",
    "def find(ind: int, p_cd: np.ndarray)-> int:\n",
    "    #z = ind\n",
    "    #while p_cd[z] >= -1:\n",
    "    #        z = p_cd[z]\n",
    "    #while p_cd[ind] > -1:\n",
    "    #        y = p_cd[ind]\n",
    "    #        p[ind] = z\n",
    "    #        ind = y\n",
    "    #return z\n",
    "    while p_cd[ind] > -1:\n",
    "        ind = p_cd[ind]\n",
    "    return ind\n",
    "\n",
    "def union(rep_1: int, rep_2: int, p_cd: np.ndarray)-> int:\n",
    "    x = find (rep_1, p_cd)\n",
    "    y = find (rep_2, p_cd)\n",
    "        \n",
    "    if x == y:\n",
    "        return -1\n",
    "        \n",
    "    if p_cd[y] < p_cd[x]:\n",
    "        p_cd[x] = y\n",
    "        ret = y\n",
    "    elif p_cd[y] > p_cd[x]:\n",
    "        p_cd[y] = x\n",
    "        ret = x\n",
    "    else:\n",
    "        p_cd[y] = x\n",
    "        p_cd[x] -= 1\n",
    "        ret =  x   \n",
    "    return ret\n",
    "\n",
    "p =np.array([-2, 0, 1, -2, 3, 4, -1, -2, 7, 8])\n",
    "    \n",
    "h = union(find(1, p), find(5, p), p)\n",
    "print(h)\n",
    "h = union(find(2, p), find(6, p), p)\n",
    "print(h)\n",
    "h = union(find(5, p), find(9, p), p)\n",
    "print(h)"
   ]
  },
  {
   "cell_type": "code",
   "execution_count": 73,
   "id": "ff8ac24f",
   "metadata": {},
   "outputs": [
    {
     "name": "stdout",
     "output_type": "stream",
     "text": [
      "7\n"
     ]
    }
   ],
   "source": [
    "'FIND'\n",
    "\n",
    "import numpy as np\n",
    "\n",
    "def find(ind: int, p_cd: np.ndarray)-> int:\n",
    "    z = ind\n",
    "    \n",
    "    # get the root (representant)\n",
    "    while p_cd[z] >= 0:\n",
    "        z = p_cd[z]\n",
    "        \n",
    "    # compress the path from u to the root\n",
    "    while p_cd[ind] >= 0:\n",
    "        y = p_cd[ind]\n",
    "        p_cd[ind] = z\n",
    "        ind = y\n",
    "    return z\n",
    "\n",
    "\n",
    "p =np.array([-2, 0, 1, -2, 3, 4, -1, -2, 7, 8])\n",
    "h = find(9,p)\n",
    "print(h)"
   ]
  },
  {
   "cell_type": "code",
   "execution_count": 74,
   "id": "6bd5a8c6",
   "metadata": {},
   "outputs": [
    {
     "name": "stdout",
     "output_type": "stream",
     "text": [
      "{0: [0, 1, 2], 3: [3, 4, 5], 6: [6], 7: [7, 8, 9]}\n"
     ]
    }
   ],
   "source": [
    "'DICT'\n",
    "\n",
    "from typing import ItemsView\n",
    "import numpy as np\n",
    "def cd_2_dict(p_cd: np.ndarray)-> dict:\n",
    "    d = {}\n",
    "    for i in range(len(p_cd)):\n",
    "        if p_cd[i] < 0:\n",
    "            d[i] = []\n",
    "    for i in range(len(p_cd)):\n",
    "        f = find(i, p_cd)\n",
    "        d[f].append(i)    \n",
    "    \n",
    "    return d\n",
    "\n",
    "p = np.array([-2, 0, 1, -2, 3, 4, -1, -2, 7, 8])\n",
    "dic = cd_2_dict(p)\n",
    "print(dic)\n"
   ]
  },
  {
   "cell_type": "code",
   "execution_count": 20,
   "id": "e26a255f",
   "metadata": {},
   "outputs": [
    {
     "ename": "SyntaxError",
     "evalue": "invalid syntax (<ipython-input-20-dd5afbcd5c22>, line 22)",
     "output_type": "error",
     "traceback": [
      "\u001b[0;36m  Cell \u001b[0;32mIn [20], line 22\u001b[0;36m\u001b[0m\n\u001b[0;31m    print(p)t)-> dict:\u001b[0m\n\u001b[0m    ^\u001b[0m\n\u001b[0;31mSyntaxError\u001b[0m\u001b[0;31m:\u001b[0m invalid syntax\n"
     ]
    }
   ],
   "source": [
    "import numpy as np\n",
    "\n",
    "def init_cd(n: int)-> np.ndarray:\n",
    "    arr = np.ones(n).astype(int)*-1\n",
    "    return arr\n",
    "    \n",
    "def find(ind: int, p_cd: np.ndarray)-> int:\n",
    "    z = ind\n",
    "    \n",
    "    # get the root (representant)\n",
    "    while p_cd[z] >= 0:\n",
    "        z = p_cd[z]\n",
    "        \n",
    "    # compress the path from u to the root\n",
    "    while p_cd[ind] >= 0:\n",
    "        y = p_cd[ind]\n",
    "        p_cd[ind] = z\n",
    "        ind = y\n",
    "    return z\n",
    "\n",
    "def ccs(n: int, l: lis\n",
    "  print(p)t)-> dict:\n",
    "    d_cc = {} \n",
    "    p = init_cd(len(l))\n",
    "    print(p)\n",
    "    for u, v in l:\n",
    "        r_u = find(u, p)\n",
    "        r_v = find(v, p)\n",
    "        if r_u != r_v:\n",
    "            #add (u, v) to the proper key in cc\n",
    "            if u in d_cc.keys():\n",
    "                d_cc[u].append((u, v))\n",
    "            elif v in d_cc.keys():\n",
    "                d_cc[v].append((u, v))\n",
    "            else:\n",
    "                d_cc[u] = []\n",
    "                d_cc[u].append((u, v))\n",
    "    return d_cc\n",
    "\n",
    "g = [(1, 2), (1, 3), (0, 4), (4, 5)]\n",
    "\n",
    "d = ccs(4, g)\n",
    "print(d)"
   ]
  },
  {
   "cell_type": "code",
   "execution_count": 33,
   "id": "5cb76597",
   "metadata": {},
   "outputs": [
    {
     "name": "stdout",
     "output_type": "stream",
     "text": [
      "[[ 0  6 15  0 18  7]\n",
      " [ 3  0  8 17  0  9]\n",
      " [15 19  0 15 10  6]\n",
      " [ 7  4  8  0  6 13]\n",
      " [ 9 14  6 19  0 17]\n",
      " [ 4  2 16  6 17  0]]\n"
     ]
    }
   ],
   "source": [
    "import numpy as np\n",
    "\n",
    "def dist_matrix(n_nodes: int, w_max=10)-> np.ndarray:\n",
    "    h = np.random.randint(w_max, size=(n_nodes, n_nodes))\n",
    "    np.fill_diagonal(h, 0)\n",
    "    return h \n",
    "\n",
    "f = dist_matrix(6, 20)\n",
    "print(f)"
   ]
  },
  {
   "cell_type": "code",
   "execution_count": 34,
   "id": "e81c0b1c",
   "metadata": {},
   "outputs": [
    {
     "name": "stdout",
     "output_type": "stream",
     "text": [
      "[0, 2, 4, 1, 3, 0]\n"
     ]
    }
   ],
   "source": [
    "import numpy as np\n",
    "\n",
    "def dist_matrix(n_nodes: int, w_max=10)-> np.ndarray:\n",
    "    h = np.random.randint(w_max, size=(n_nodes, n_nodes))\n",
    "    np.fill_diagonal(h, 0)\n",
    "    return h \n",
    "\n",
    "def greedy_tsp(dist_m: np.ndarray, node_ini=0)-> list:\n",
    "    num_cities = dist_m.shape[0]\n",
    "    circuit = [node_ini]\n",
    "    while len(circuit) < num_cities:\n",
    "        current_city = circuit[-1]\n",
    "        # sort cities in ascending distance from current\n",
    "        options = list( np.argsort(dist_m[ current_city ]) )\n",
    "        # add first city in sorted list not visited yet\n",
    "        for city in options:\n",
    "            if city not in circuit:\n",
    "                circuit.append(city)\n",
    "                break\n",
    "    return circuit + [node_ini]\n",
    "\n",
    "f = np.array([\n",
    "    [0, 2, 1, 10, 25],\n",
    "    [2, 0, 18, 5, 5],\n",
    "    [1, 18, 0, 20, 2],\n",
    "    [10, 5, 20, 0, 8],\n",
    "    [25, 5, 2, 8, 0]])\n",
    "circuit = greedy_tsp(f)\n",
    "print(circuit)\n"
   ]
  },
  {
   "cell_type": "code",
   "execution_count": 52,
   "id": "a41fa4c5",
   "metadata": {},
   "outputs": [
    {
     "name": "stdout",
     "output_type": "stream",
     "text": [
      "[0, 2, 4, 1, 3, 0]\n",
      "23\n"
     ]
    }
   ],
   "source": [
    "import numpy as np\n",
    "\n",
    "def len_circuit(circuit: list, dist_m: np.ndarray)-> int:\n",
    "    longitud = 0\n",
    "    for i in range(len(dist_m)):\n",
    "        longitud += dist_m[circuit[i]][circuit[i+1]]\n",
    "    return longitud\n",
    "\n",
    "f = np.array([\n",
    "    [0, 2, 1, 10, 25],\n",
    "    [2, 0, 18, 5, 5],\n",
    "    [1, 18, 0, 20, 2],\n",
    "    [10, 5, 20, 0, 8],\n",
    "    [25, 5, 2, 8, 0]])\n",
    "\n",
    "c = greedy_tsp(f, 0)\n",
    "\n",
    "l = len_circuit(c, f)\n",
    "print(c)\n",
    "print(l)\n",
    "    "
   ]
  },
  {
   "cell_type": "code",
   "execution_count": 83,
   "id": "4e73565d",
   "metadata": {},
   "outputs": [
    {
     "name": "stdout",
     "output_type": "stream",
     "text": [
      "18\n"
     ]
    }
   ],
   "source": [
    "import numpy as np\n",
    "\n",
    "def len_circuit(circuit: list, dist_m: np.ndarray)-> int:\n",
    "    longitud = 0\n",
    "    for i in range(len(dist_m)):\n",
    "        longitud += dist_m[circuit[i]][circuit[i+1]]\n",
    "    return longitud\n",
    "\n",
    "f = np.array([\n",
    "    [0, 2, 1, 10, 25],\n",
    "    [2, 0, 18, 5, 5],\n",
    "    [1, 18, 0, 20, 2],\n",
    "    [10, 5, 20, 0, 8],\n",
    "    [25, 5, 2, 8, 0]])\n",
    "\n",
    "c = [0, 1, 3, 4, 2, 0]\n",
    "\n",
    "\n",
    "l = len_circuit(c, f)\n",
    "print(l)"
   ]
  },
  {
   "cell_type": "code",
   "execution_count": 87,
   "id": "37424ae7",
   "metadata": {},
   "outputs": [
    {
     "name": "stdout",
     "output_type": "stream",
     "text": [
      "[1, 0, 2, 4, 3, 1]\n"
     ]
    }
   ],
   "source": [
    "import numpy as np\n",
    "\n",
    "def dist_matrix(n_nodes: int, w_max=10)-> np.ndarray:\n",
    "    h = np.random.randint(w_max, size=(n_nodes, n_nodes))\n",
    "    np.fill_diagonal(h, 0)\n",
    "    return h \n",
    "\n",
    "def len_circuit(circuit: list, dist_m: np.ndarray)-> int:\n",
    "    longitud = 0\n",
    "    for i in range(len(dist_m)):\n",
    "        longitud += dist_m[circuit[i]][circuit[i+1]]\n",
    "    return longitud\n",
    "\n",
    "def greedy_tsp(dist_m: np.ndarray, node_ini=0)-> list:\n",
    "    num_cities = dist_m.shape[0]\n",
    "    circuit = [node_ini]\n",
    "    while len(circuit) < num_cities:\n",
    "        current_city = circuit[-1]\n",
    "        # sort cities in ascending distance from current\n",
    "        options = list( np.argsort(dist_m[ current_city ]) )\n",
    "        # add first city in sorted list not visited yet\n",
    "        for city in options:\n",
    "            if city not in circuit:\n",
    "                circuit.append(city)\n",
    "                break\n",
    "    return circuit + [node_ini]\n",
    "\n",
    "def repeated_greedy_tsp(dist_m: np.ndarray)-> list:\n",
    "    circuitos = []\n",
    "    longitudes = []\n",
    "    for i in range(len(dist_m)):\n",
    "        circuitos.append(greedy_tsp(dist_m, i))\n",
    "        longitudes.append(len_circuit(circuitos[i], dist_m))\n",
    "\n",
    "    min = np.amin(longitudes)\n",
    "    index = longitudes.index(min)\n",
    "\n",
    "    return circuitos[index]\n",
    "\n",
    "f = np.array([\n",
    "    [0, 2, 1, 10, 25],\n",
    "    [2, 0, 18, 5, 5],\n",
    "    [1, 18, 0, 20, 2],\n",
    "    [10, 5, 20, 0, 8],\n",
    "    [25, 6, 2, 8, 0]])\n",
    "circuit = repeated_greedy_tsp(f)\n",
    "print(circuit)"
   ]
  },
  {
   "cell_type": "code",
   "execution_count": 7,
   "id": "9589b5e1",
   "metadata": {},
   "outputs": [
    {
     "name": "stdout",
     "output_type": "stream",
     "text": [
      "[0, 1, 3, 4, 2, 0]\n"
     ]
    }
   ],
   "source": [
    "from itertools import permutations\n",
    "import numpy as np\n",
    "\n",
    "def len_circuit(circuit: list, dist_m: np.ndarray)-> int:\n",
    "    longitud = 0\n",
    "    for i in range(len(dist_m)):\n",
    "        longitud += dist_m[circuit[i]][circuit[i+1]]\n",
    "    return longitud\n",
    "\n",
    "def exhaustive_tsp(dist_m: np.ndarray)-> list:\n",
    "  c = []\n",
    "  l = []\n",
    "  h = []\n",
    "\n",
    "  for i in range(len(dist_m)):\n",
    "    c.append(i)\n",
    "\n",
    "  p = list(permutations(c))\n",
    "\n",
    "  for i in p:\n",
    "    l.append(list(i))\n",
    "\n",
    "  for i in range(len(l)):\n",
    "    l[i].append(l[i][0])\n",
    "\n",
    "  min = len_circuit(l[0], dist_m)\n",
    "  h = list(np.copy(l[0]))\n",
    "  \n",
    "  for i in l[1:]:\n",
    "    aux = len_circuit(i, dist_m)\n",
    "    if aux < min:\n",
    "      min = aux\n",
    "      h = list(np.copy(i))\n",
    "\n",
    "  return h\n",
    "      \n",
    "f = np.array([\n",
    "    [0, 2, 1, 10, 25],\n",
    "    [2, 0, 18, 5, 5],\n",
    "    [1, 18, 0, 20, 2],\n",
    "    [10, 5, 20, 0, 8],\n",
    "    [25, 6, 2, 8, 0]])\n",
    "\n",
    "o = exhaustive_tsp(f)\n",
    "print(o)"
   ]
  }
 ],
 "metadata": {
  "kernelspec": {
   "display_name": "Python 3 (ipykernel)",
   "language": "python",
   "name": "python3"
  },
  "language_info": {
   "codemirror_mode": {
    "name": "ipython",
    "version": 3
   },
   "file_extension": ".py",
   "mimetype": "text/x-python",
   "name": "python",
   "nbconvert_exporter": "python",
   "pygments_lexer": "ipython3",
   "version": "3.9.12"
  },
  "vscode": {
   "interpreter": {
    "hash": "e8fac7edbe3fc3ee8dc4af7fb9891cac1e2a78a800a1446a0d4fe2e2c052a0fd"
   }
  }
 },
 "nbformat": 4,
 "nbformat_minor": 5
}
