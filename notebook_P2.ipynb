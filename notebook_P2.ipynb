{
 "cells": [
  {
   "cell_type": "code",
   "execution_count": 3,
   "id": "cf40523c",
   "metadata": {},
   "outputs": [
    {
     "data": {
      "text/plain": [
       "array([-1, -1, -1, -1, -1])"
      ]
     },
     "execution_count": 3,
     "metadata": {},
     "output_type": "execute_result"
    }
   ],
   "source": [
    "'INIT'\n",
    "\n",
    "import numpy as np\n",
    "def init_cd(n: int)-> np.ndarray:\n",
    "    arr = np.ones(n).astype(int)*-1\n",
    "    return arr\n",
    "\n",
    "a = 5\n",
    "init_cd(a)\n"
   ]
  },
  {
   "cell_type": "code",
   "execution_count": 31,
   "id": "ec1de871",
   "metadata": {},
   "outputs": [
    {
     "name": "stdout",
     "output_type": "stream",
     "text": [
      "0\n",
      "0\n",
      "0\n"
     ]
    }
   ],
   "source": [
    "'UNION'\n",
    "\n",
    "import numpy as np\n",
    "def find(ind: int, p_cd: np.ndarray)-> int:\n",
    "    #z = ind\n",
    "    #while p_cd[z] >= -1:\n",
    "    #        z = p_cd[z]\n",
    "    #while p_cd[ind] > -1:\n",
    "    #        y = p_cd[ind]\n",
    "    #        p[ind] = z\n",
    "    #        ind = y\n",
    "    #return z\n",
    "    while p_cd[ind] > -1:\n",
    "        ind = p_cd[ind]\n",
    "    return ind\n",
    "\n",
    "def union(rep_1: int, rep_2: int, p_cd: np.ndarray)-> int:\n",
    "    x = find (rep_1, p_cd)\n",
    "    y = find (rep_2, p_cd)\n",
    "        \n",
    "    if x == y:\n",
    "        return -1\n",
    "        \n",
    "    if p_cd[y] < p_cd[x]:\n",
    "        p_cd[x] = y\n",
    "        ret = y\n",
    "    elif p_cd[y] > p_cd[x]:\n",
    "        p_cd[y] = x\n",
    "        ret = x\n",
    "    else:\n",
    "        p_cd[y] = x\n",
    "        p_cd[x] -= 1\n",
    "        ret =  x   \n",
    "    return ret\n",
    "\n",
    "p =np.array([-2, 0, 1, -2, 3, 4, -1, -2, 7, 8])\n",
    "    \n",
    "h = union(find(1, p), find(5, p), p)\n",
    "print(h)\n",
    "h = union(find(2, p), find(6, p), p)\n",
    "print(h)\n",
    "h = union(find(5, p), find(9, p), p)\n",
    "print(h)"
   ]
  },
  {
   "cell_type": "code",
   "execution_count": 93,
   "id": "ff8ac24f",
   "metadata": {},
   "outputs": [
    {
     "name": "stdout",
     "output_type": "stream",
     "text": [
      "3\n"
     ]
    }
   ],
   "source": [
    "'FIND'\n",
    "\n",
    "import numpy as np\n",
    "\n",
    "def find(ind: int, p_cd: np.ndarray)-> int:\n",
    "    z = ind\n",
    "    while p_cd[z] >= -1:\n",
    "            z = p_cd[z]\n",
    "    while p_cd[ind] > -1:\n",
    "            y = p_cd[ind]\n",
    "            p[ind] = z\n",
    "            ind = y\n",
    "    return z\n",
    "\n",
    "p =np.array([-2, 0, 1, -2, 3, 4, -1, -2, 7, 8])\n",
    "h = find(4,p)\n",
    "print(h)"
   ]
  },
  {
   "cell_type": "code",
   "execution_count": 5,
   "id": "6bd5a8c6",
   "metadata": {},
   "outputs": [
    {
     "name": "stdout",
     "output_type": "stream",
     "text": [
      "[-4  0  1 -2  3  4 -1 -5  7  8]\n",
      "{-4: [0, 1], -2: [3, 4], -1: [], -5: [7, 8]}\n"
     ]
    }
   ],
   "source": [
    "'DICT'\n",
    "\n",
    "from typing import ItemsView\n",
    "import numpy as np\n",
    "def cd_2_dict(p_cd: np.ndarray)-> dict:\n",
    "    d = {}\n",
    "    for i in range(len(p_cd)):\n",
    "        if p_cd[i] < 0:\n",
    "            d[p_cd[i]] = []\n",
    "            key = p_cd[i]\n",
    "        else:\n",
    "            d[key] += [p_cd[i]]\n",
    "\n",
    "    return d\n",
    "\n",
    "\n",
    "p =np.array([-4, 0, 1, -2, 3, 4, -1, -5, 7, 8])\n",
    "dic = cd_2_dict(p)\n",
    "print(p)\n",
    "print(dic)"
   ]
  },
  {
   "cell_type": "code",
   "execution_count": 69,
   "id": "e26a255f",
   "metadata": {},
   "outputs": [
    {
     "name": "stdout",
     "output_type": "stream",
     "text": [
      "None\n"
     ]
    },
    {
     "ename": "TypeError",
     "evalue": "'NoneType' object is not subscriptable",
     "output_type": "error",
     "traceback": [
      "\u001b[0;31m---------------------------------------------------------------------------\u001b[0m",
      "\u001b[0;31mTypeError\u001b[0m                                 Traceback (most recent call last)",
      "Cell \u001b[0;32mIn [69], line 37\u001b[0m\n\u001b[1;32m     33\u001b[0m     \u001b[39mreturn\u001b[39;00m d_cc\n\u001b[1;32m     35\u001b[0m g \u001b[39m=\u001b[39m [(\u001b[39m1\u001b[39m, \u001b[39m2\u001b[39m), (\u001b[39m1\u001b[39m, \u001b[39m3\u001b[39m), (\u001b[39m0\u001b[39m, \u001b[39m4\u001b[39m), (\u001b[39m4\u001b[39m, \u001b[39m5\u001b[39m)]\n\u001b[0;32m---> 37\u001b[0m d \u001b[39m=\u001b[39m ccs(\u001b[39m3\u001b[39;49m, g)\n\u001b[1;32m     38\u001b[0m \u001b[39mprint\u001b[39m(d)\n",
      "Cell \u001b[0;32mIn [69], line 22\u001b[0m, in \u001b[0;36mccs\u001b[0;34m(n, l)\u001b[0m\n\u001b[1;32m     20\u001b[0m \u001b[39mprint\u001b[39m(p)\n\u001b[1;32m     21\u001b[0m \u001b[39mfor\u001b[39;00m u, v \u001b[39min\u001b[39;00m g:\n\u001b[0;32m---> 22\u001b[0m     r_u \u001b[39m=\u001b[39m find(u, p)\n\u001b[1;32m     23\u001b[0m     r_v \u001b[39m=\u001b[39m find(v, p)\n\u001b[1;32m     24\u001b[0m     \u001b[39mif\u001b[39;00m r_u \u001b[39m!=\u001b[39m r_v:\n\u001b[1;32m     25\u001b[0m         \u001b[39m# add (u, v) to the proper key in cc\u001b[39;00m\n",
      "Cell \u001b[0;32mIn [69], line 9\u001b[0m, in \u001b[0;36mfind\u001b[0;34m(ind, p_cd)\u001b[0m\n\u001b[1;32m      7\u001b[0m \u001b[39mdef\u001b[39;00m \u001b[39mfind\u001b[39m(ind: \u001b[39mint\u001b[39m, p_cd: np\u001b[39m.\u001b[39mndarray)\u001b[39m-\u001b[39m\u001b[39m>\u001b[39m \u001b[39mint\u001b[39m:\n\u001b[1;32m      8\u001b[0m     z \u001b[39m=\u001b[39m ind\n\u001b[0;32m----> 9\u001b[0m     \u001b[39mwhile\u001b[39;00m p_cd[z] \u001b[39m>\u001b[39m\u001b[39m=\u001b[39m \u001b[39m-\u001b[39m\u001b[39m1\u001b[39m:\n\u001b[1;32m     10\u001b[0m             z \u001b[39m=\u001b[39m p_cd[z]\n\u001b[1;32m     11\u001b[0m     \u001b[39mwhile\u001b[39;00m p_cd[ind] \u001b[39m>\u001b[39m \u001b[39m-\u001b[39m\u001b[39m1\u001b[39m:\n",
      "\u001b[0;31mTypeError\u001b[0m: 'NoneType' object is not subscriptable"
     ]
    }
   ],
   "source": [
    "import numpy as np\n",
    "\n",
    "def init_cd(n: int)-> np.ndarray:\n",
    "    arr = np.ones(n).astype(int)*-1\n",
    "    return \n",
    "    \n",
    "def find(ind: int, p_cd: np.ndarray)-> int:\n",
    "    z = ind\n",
    "    while p_cd[z] >= -1:\n",
    "            z = p_cd[z]\n",
    "    while p_cd[ind] > -1:\n",
    "            y = p_cd[ind]\n",
    "            p[ind] = z\n",
    "            ind = y\n",
    "    return z\n",
    "\n",
    "def ccs(n: int, l: list)-> dict:\n",
    "    d_cc = {} \n",
    "    p = init_cd(len(g))\n",
    "    for u, v in g:\n",
    "        r_u = find(u, p)\n",
    "        r_v = find(v, p)\n",
    "        if r_u != r_v:\n",
    "            #add (u, v) to the proper key in cc\n",
    "            if u in d_cc.keys():\n",
    "                d_cc[u].append((u, v))\n",
    "            elif v in d_cc.keys():\n",
    "                d_cc[v].append((u, v))\n",
    "            else:\n",
    "                d_cc[u] = []\n",
    "                d_cc[u].append((u, v))\n",
    "    return d_cc\n",
    "\n",
    "g = [(1, 2), (1, 3), (0, 4), (4, 5)]\n",
    "\n",
    "d = ccs(3, g)\n",
    "print(d)"
   ]
  },
  {
   "cell_type": "code",
   "execution_count": null,
   "id": "5cb76597",
   "metadata": {},
   "outputs": [],
   "source": [
    "def dist_matrix(n_nodes: int, w_max=10)-> np.ndarray:\n",
    "    h = np.random.randint(w_max, size=(n_nodes, n_nodes))\n",
    "    np.fill_diagonal(h, 0)\n",
    "    return h \n",
    "\n",
    "f = dist_matrix(5, 10)\n",
    "print(f)"
   ]
  }
 ],
 "metadata": {
  "kernelspec": {
   "display_name": "Python 3 (ipykernel)",
   "language": "python",
   "name": "python3"
  },
  "language_info": {
   "codemirror_mode": {
    "name": "ipython",
    "version": 3
   },
   "file_extension": ".py",
   "mimetype": "text/x-python",
   "name": "python",
   "nbconvert_exporter": "python",
   "pygments_lexer": "ipython3",
   "version": "3.9.12"
  },
  "vscode": {
   "interpreter": {
    "hash": "e8fac7edbe3fc3ee8dc4af7fb9891cac1e2a78a800a1446a0d4fe2e2c052a0fd"
   }
  }
 },
 "nbformat": 4,
 "nbformat_minor": 5
}
