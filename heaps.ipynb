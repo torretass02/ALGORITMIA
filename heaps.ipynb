{
 "cells": [
  {
   "cell_type": "markdown",
   "metadata": {},
   "source": [
    " # Heaps\n",
    " \n",
    "* Un heap es un árbol binario cuasicompleto.\n",
    "* Un min heap es un heap $T$ que cumple la propiead de min heap para cada nodo $T'$ de $T$ \n",
    "$$\n",
    "\\text{info}(T') < \\min \\left[ \\text {info} \\left( \\text {izq} (T') \\right), \\text{info} \\left( \\text{der}(T’) \\right) \\right] \n",
    "$$\n",
    "Por tanto el elemento más pequeño está en la raíz.\n",
    "\n",
    "* Un *Heap* es una estructura recursiva: todo sub-árbol del *Heap* es a su vez un *Heap*.\n",
    "\n",
    "* Hay dos principales primitivas dinámicas en min heaps:\n",
    "    * `extract` extrae el elemento más pequeño del min heap, e.i., el de la raíz\n",
    "    * `insert` inserta un nuevo elemento en el min heap\n",
    "    \n",
    "* Ambas permiten implementaciones eficientes si el min heap está almacenado en una lista."
   ]
  },
  {
   "cell_type": "markdown",
   "metadata": {},
   "source": [
    "## Heaps implementado con una lista\n",
    "\n",
    "* Supongamos un heap con $n$ elementos amlacenando en una lista con indices $0, \\ldots,  n-1$\n",
    "* Los hijos izquierdo y derecho del nodo en el índice $i$ son $2 \\cdot i+1$ y  $2 \\cdot i+2$ respectivamente\n",
    "* El padre del nodo en el indice i es $(i-1)//2$\n"
   ]
  },
  {
   "cell_type": "markdown",
   "metadata": {},
   "source": [
    "**Ejemplo:**\n",
    "<pre>    \n",
    "            5                                 2\n",
    "          /     \\                           /     \\\n",
    "        10       15                        6        3\n",
    "       /                                 /  \\     /   \\  \n",
    "      30                              10     8   7     5\n",
    "      \n",
    "    [5, 10, 15, 30]                [2, 6, 3, 10, 8, 7, 5] \n",
    "    \n",
    " </pre>"
   ]
  },
  {
   "cell_type": "markdown",
   "metadata": {},
   "source": [
    "## Procedimiento Heapify\n",
    "\n",
    "* El procedimiento clave para procesar min heaps es la función `heapify()` que dado un nodo se asegura que el subárbol desde ese nodo es un min heap.\n",
    "\n",
    "* **Importante** Para poder aplicar el procedimiento `heapify()` sobre la ráiz de un árbol, tanto el sub-árbol izquierdo como el derecho deben ser min Heaps. \n",
    "\n",
    "* El procedimiento *heapify()* cuando se aplica sobre un nodo $i$ compara su valor con el de sus hijos, se intercambia con el de menor valor y vuelve a aplicar el procedimiento *heapify()* hasta que se detiene, bien porqué tiene un valor menor que sus hijos o bien porqué llega a una hoja.  "
   ]
  },
  {
   "cell_type": "markdown",
   "metadata": {},
   "source": [
    "             20                                4\n",
    "          /     \\                           /     \\\n",
    "        5        4           ==>          5        10\n",
    "       / \\      /  \\                     /  \\     /   \\  \n",
    "      9   6    10   15                 9     6   20    15\n",
    "      \n",
    "  "
   ]
  },
  {
   "cell_type": "code",
   "execution_count": 28,
   "metadata": {},
   "outputs": [
    {
     "name": "stdout",
     "output_type": "stream",
     "text": [
      "[4, 5, 10, 9, 6, 20, 15]\n"
     ]
    }
   ],
   "source": [
    "_left   = lambda i : 2*i+1\n",
    "_right  = lambda i : 2*i+2\n",
    "_parent = lambda i:  (i-1)//2  \n",
    "\n",
    "def heapify (h, i):\n",
    "    ''' Version 1'''\n",
    "    \n",
    "    exchange = True  \n",
    "    \n",
    "    while exchange:\n",
    "        \n",
    "        minimum = i\n",
    "        l = _left(i)\n",
    "        r = _right(i)\n",
    "        \n",
    "        # if there are childs, get the minimum \n",
    "        if l < len(h) and h[i] > h[l]:\n",
    "            minimum = l\n",
    "        if r < len(h) and h[r] < h[minimum]:\n",
    "            minimum = r\n",
    "        \n",
    "        # exchange i with the minimum\n",
    "        if  minimum != i:\n",
    "            h[i], h[minimum] = h[minimum], h[i]\n",
    "            i = minimum\n",
    "            exchange = True\n",
    "        else:\n",
    "            exchange = False\n",
    "\n",
    "\n",
    "# Driver programm\n",
    "h = [20, 5, 4, 9, 6, 10, 15]\n",
    "\n",
    "heapify (h, 0)\n",
    "print(h)\n"
   ]
  },
  {
   "cell_type": "code",
   "execution_count": 29,
   "metadata": {},
   "outputs": [
    {
     "name": "stdout",
     "output_type": "stream",
     "text": [
      "[7, 13, 10, 50, 14, 17]\n"
     ]
    }
   ],
   "source": [
    "def _heapify (h, i):\n",
    "    ''' Version 2 (transparencias)'''\n",
    "    while 2*i+1 < len(h):\n",
    "        n_i = i\n",
    "        \n",
    "        if h[i] > h[2*i+1]:\n",
    "            n_i = 2*i+1\n",
    "        if 2*i+2 < len(h) and h[i] > h[2*i+2] and h[2*i+2] < h[n_i]:\n",
    "            n_i = 2*i+2\n",
    "\n",
    "        if n_i > i:\n",
    "            h[i], h[n_i] = h[n_i], h[i]\n",
    "            i = n_i\n",
    "        else:\n",
    "            return\n",
    "\n",
    "# Driver programm\n",
    "h = [50, 7, 10, 13, 14, 17]\n",
    "\n",
    "_heapify (h, 0)\n",
    "print(h)\n",
    "\n"
   ]
  },
  {
   "cell_type": "markdown",
   "metadata": {},
   "source": [
    "* El coste de heapify es claramente $O(\\text{prof} (h)) = O(\\log n) $"
   ]
  },
  {
   "cell_type": "markdown",
   "metadata": {},
   "source": [
    "**Ejercicio:** Proporciona una versión recursiva de `heapfy()`"
   ]
  },
  {
   "cell_type": "markdown",
   "metadata": {},
   "source": [
    "## Extraer la raíz de un min-Heap"
   ]
  },
  {
   "cell_type": "markdown",
   "metadata": {},
   "source": [
    "* Para extraer la raíz:\n",
    "    * Eliminamos el nodo raíz\n",
    "    * Movemos el último nodo a la raíz\n",
    "    * Aplicamos `heapify()` desde la nueva raíz"
   ]
  },
  {
   "cell_type": "markdown",
   "metadata": {},
   "source": [
    "             4                                 5\n",
    "          /     \\                           /     \\\n",
    "        5        10           ==>          6       10\n",
    "       / \\      /  \\                     /  \\     /     \n",
    "      9   6    20   15                 9     15  20\n",
    "      \n",
    "  "
   ]
  },
  {
   "cell_type": "code",
   "execution_count": null,
   "metadata": {
    "scrolled": false
   },
   "outputs": [],
   "source": [
    "def minheap_extract(h:list):\n",
    "    ''''Remove and return the root. Raise KeyError if empty.'''\n",
    "    if len(h) == 0:\n",
    "        raise IndexError('Empty heap')\n",
    "    \n",
    "    root = h[0]\n",
    "    \n",
    "    # swapp the root with the last node\n",
    "    h[0] =  h[len(h)-1]\n",
    "    \n",
    "    h.pop()\n",
    "    heapify (h, 0)\n",
    "    \n",
    "    return root\n",
    "\n",
    "##### Drive programm\n",
    "\n",
    "h = [4, 5, 10, 9, 6, 20, 15]\n",
    "heapify(h, 0)\n",
    "print(f'Heap: {h}')\n",
    "\n",
    "print (minheap_extract(h))\n",
    "print(f'Heap despues de extraer: {h}')\n",
    "\n"
   ]
  },
  {
   "cell_type": "markdown",
   "metadata": {},
   "source": [
    "* El coste de la extracción claramente es $O(\\log n)$"
   ]
  },
  {
   "cell_type": "markdown",
   "metadata": {},
   "source": [
    "## Insertar un nuevo nodo en un min-Heap"
   ]
  },
  {
   "cell_type": "code",
   "execution_count": 31,
   "metadata": {},
   "outputs": [
    {
     "name": "stdout",
     "output_type": "stream",
     "text": [
      "Heap: [7, 13, 10, 50, 14, 25]\n",
      "Heap despues de insertar la llave 1: [1, 13, 7, 50, 14, 25, 10]\n"
     ]
    }
   ],
   "source": [
    "def minheap_insert (h:list, k): \n",
    "    ''' version 1'''\n",
    "    \n",
    "    h.append (k)\n",
    "    j = len(h) - 1   #ultima posicion de la lista \n",
    "    \n",
    "    # procedimiento heapifyup\n",
    "    while j > 0 and h[_parent(j)] > h[j]:\n",
    "        h[_parent(j)], h[j] = h[j], h[_parent(j)]\n",
    "        j = _parent(j)\n",
    "\n",
    "\n",
    "def _minheap_insert(h:list, k):\n",
    "    '''version 2 (transparencias)'''\n",
    "    h += [k]\n",
    "    j = len(h) - 1\n",
    "    while j > 0 and h[(j-1) // 2] > h[j]:\n",
    "        h[(j-1) // 2], h[j] = h[j], h[(j-1) // 2]\n",
    "        j = (j-1) // 2     \n",
    "        \n",
    "        \n",
    "# Drive programm\n",
    "h = [50, 7, 10, 13, 14, 25]    #lista no es un heap\n",
    "_heapify(h, 0)                  # Construyo el heap\n",
    "print(f'Heap: {h}')\n",
    "\n",
    "key = 1\n",
    "_minheap_insert (h, key)       # inserto la llave en la lista     \n",
    "print(f'Heap despues de insertar la llave {key}: {h}')"
   ]
  },
  {
   "cell_type": "markdown",
   "metadata": {},
   "source": [
    "* El coste de la insercción claramente es $O(\\log n)$"
   ]
  },
  {
   "cell_type": "markdown",
   "metadata": {},
   "source": [
    "## Construyendo un Heap"
   ]
  },
  {
   "cell_type": "markdown",
   "metadata": {},
   "source": [
    "* Si el contenedor del heap (i.e., la lista) estuviese vacío, podemos inseratr elementos *uno a uno* mediante llamadas sucesivas a la función `heap_insert()` "
   ]
  },
  {
   "cell_type": "code",
   "execution_count": 32,
   "metadata": {},
   "outputs": [
    {
     "data": {
      "text/plain": [
       "[0, 10, 7]"
      ]
     },
     "execution_count": 32,
     "metadata": {},
     "output_type": "execute_result"
    }
   ],
   "source": [
    "h=[] #contenedor de los elementos del heap\n",
    "minheap_insert (h, 10)\n",
    "minheap_insert (h, 0)\n",
    "minheap_insert (h, 7)\n",
    "h"
   ]
  },
  {
   "cell_type": "markdown",
   "metadata": {},
   "source": [
    "* Sin embaro, suponga que ya se dispone de la lista con los elementos y se desea *organizarlos* en un minHeap. Tenemos dos posibilidades. Ambas son *in-place*, i.e, no requieren de memoria adicional:\n",
    "    * `minheap_build()` utiliza el procedimiento `heapify()`. Empezando desde el padre del último nodo de la lista invocamos iterativamente al procedimiento `heapify(h, i)` decrementando el índice del nodo $i$ en cada iteración.  \n",
    "    * `_minheap_build()`utiliza un procedimiento equivalente a `minheap_insert()` empezando desde el nodo raíz e intercambiándose con su padre el *nodo va subiendo* por el heap hasta que o bien tiene un valor mayor que su padre o bien llega a la raíz del árbol."
   ]
  },
  {
   "cell_type": "code",
   "execution_count": 1,
   "metadata": {},
   "outputs": [
    {
     "ename": "NameError",
     "evalue": "name '_parent' is not defined",
     "output_type": "error",
     "traceback": [
      "\u001b[0;31m---------------------------------------------------------------------------\u001b[0m",
      "\u001b[0;31mNameError\u001b[0m                                 Traceback (most recent call last)",
      "Cell \u001b[0;32mIn [1], line 13\u001b[0m\n\u001b[1;32m      9\u001b[0m     \u001b[38;5;28;01mreturn\u001b[39;00m l\n\u001b[1;32m     11\u001b[0m \u001b[38;5;66;03m# Driver programm\u001b[39;00m\n\u001b[0;32m---> 13\u001b[0m l \u001b[38;5;241m=\u001b[39m  minheap_build ([\u001b[38;5;241m10\u001b[39m, \u001b[38;5;241m9\u001b[39m, \u001b[38;5;241m7\u001b[39m, \u001b[38;5;241m2\u001b[39m, \u001b[38;5;241m4\u001b[39m, \u001b[38;5;241m5\u001b[39m, \u001b[38;5;241m8\u001b[39m, \u001b[38;5;241m1\u001b[39m])\n\u001b[1;32m     14\u001b[0m \u001b[38;5;28mprint\u001b[39m(\u001b[38;5;124mf\u001b[39m\u001b[38;5;124m'\u001b[39m\u001b[38;5;124mHeap: \u001b[39m\u001b[38;5;132;01m{\u001b[39;00ml\u001b[38;5;132;01m}\u001b[39;00m\u001b[38;5;124m'\u001b[39m)\n",
      "Cell \u001b[0;32mIn [1], line 4\u001b[0m, in \u001b[0;36mminheap_build\u001b[0;34m(l)\u001b[0m\n\u001b[1;32m      1\u001b[0m \u001b[38;5;28;01mdef\u001b[39;00m \u001b[38;5;21mminheap_build\u001b[39m (l:\u001b[38;5;28mlist\u001b[39m) \u001b[38;5;241m-\u001b[39m\u001b[38;5;241m>\u001b[39m \u001b[38;5;28mlist\u001b[39m:\n\u001b[1;32m      2\u001b[0m     \u001b[38;5;124;03m''' utiliza heapify'''\u001b[39;00m\n\u001b[0;32m----> 4\u001b[0m     j \u001b[38;5;241m=\u001b[39m \u001b[43m_parent\u001b[49m(\u001b[38;5;28mlen\u001b[39m(l)\u001b[38;5;241m-\u001b[39m\u001b[38;5;241m1\u001b[39m)  \u001b[38;5;66;03m#índice del padre del ultimo nodo \u001b[39;00m\n\u001b[1;32m      6\u001b[0m     \u001b[38;5;28;01mwhile\u001b[39;00m j \u001b[38;5;241m>\u001b[39m\u001b[38;5;241m-\u001b[39m\u001b[38;5;241m1\u001b[39m:\n\u001b[1;32m      7\u001b[0m         _heapify (l, j)\n",
      "\u001b[0;31mNameError\u001b[0m: name '_parent' is not defined"
     ]
    }
   ],
   "source": [
    "def minheap_build (l:list) -> list:\n",
    "    ''' utiliza heapify'''\n",
    "    \n",
    "    j = _parent(len(l)-1)  #índice del padre del ultimo nodo \n",
    "\n",
    "    while j >-1:\n",
    "        _heapify (l, j)\n",
    "        j -= 1\n",
    "    return l\n",
    "\n",
    "# Driver programm\n",
    "\n",
    "l =  minheap_build ([10, 9, 7, 2, 4, 5, 8, 1])\n",
    "print(f'Heap: {l}')"
   ]
  },
  {
   "cell_type": "markdown",
   "metadata": {},
   "source": [
    "             10                                1\n",
    "          /     \\                           /     \\\n",
    "        9        7           ==>           2       5\n",
    "       / \\      /  \\                     /  \\     /  \\     \n",
    "      2   4    5    8                   9    4   7    8\n",
    "     /                                 /  \n",
    "    1                                 10"
   ]
  },
  {
   "cell_type": "code",
   "execution_count": 34,
   "metadata": {},
   "outputs": [
    {
     "name": "stdout",
     "output_type": "stream",
     "text": [
      "Heap: [1, 2, 5, 4, 7, 9, 8, 10]\n"
     ]
    }
   ],
   "source": [
    "def _minheap_build (l:list) ->list:\n",
    "    ''' Utiliza heapifyup'''\n",
    "    \n",
    "    def heapifyup (h, j):\n",
    "        while j > 0 and h[_parent(j)] > h[j]:\n",
    "            h[_parent(j)], h[j] = h[j], h[_parent(j)]\n",
    "            j = _parent(j)\n",
    "    \n",
    "    for i in range(len(l)):\n",
    "        heapifyup (l, i)\n",
    "    return l\n",
    "\n",
    "\n",
    "##### Driver programm\n",
    "l = _minheap_build ([10, 9, 7, 2, 4, 5, 8, 1])\n",
    "print(f'Heap: {l}')   \n"
   ]
  },
  {
   "cell_type": "markdown",
   "metadata": {},
   "source": [
    "             10                                1\n",
    "          /     \\                           /     \\\n",
    "        9        7           ==>           2       5\n",
    "       / \\      /  \\                     /  \\     /  \\     \n",
    "      2   4    5    8                   4    7   9    8\n",
    "     /                                 /  \n",
    "    1                                 10"
   ]
  },
  {
   "cell_type": "markdown",
   "metadata": {},
   "source": [
    "* Notad como los dos procedimientos para construir un min-heap **no** producen los mismos resultados.\n",
    " "
   ]
  },
  {
   "cell_type": "markdown",
   "metadata": {},
   "source": [
    "# Colas de Prioridad (PQ)"
   ]
  },
  {
   "cell_type": "markdown",
   "metadata": {},
   "source": [
    "* Son colas con las primitivas estándar `insert`, `remove`,.... pero donde:\n",
    "    * Cada elemento tiene asociada una prioridad que determina su lugar en la PQ después de la inserción\n",
    "    * Supondremos que los valores más pequeños tienen una prioridad más alta\n",
    "    * `insert(x)` situa x *después* de los elementos en la PQ con menor prioridad y *antes* aquellos con mayor prioridad\n",
    "        * **Cuidado:** *Antes* y *después* no deben *entenderse en el sentido de que los elementos deban estar ordenados dentro de la PQ*. Lo fundamental es asegurar que cada vez que se extraiga un elemento se extraiga el de mayor prioridad de los almacenados en la cola. \n",
    "    * `remove()` extrae el elemento de menor prioridad manteniendo la prioridad de los demás elementos"
   ]
  },
  {
   "cell_type": "markdown",
   "metadata": {},
   "source": [
    "## PQ sobre Heaps\n",
    "\n",
    "* Conceptualmente construimos un *min-heap* donde cada nodo (objeto) es un par: contiene su prioridad y un enlace a sus datos.\n",
    "* Construimos un *min-heap* de acuerdo a las prioridades de los objetos\n",
    "* Las primitivas de PQ invocan a las de *min-heap*\n",
    "    * `insert()` realiza la insercción en el *min-Heap*\n",
    "    * `remove()` elimina la raíz del *min-Heap*"
   ]
  },
  {
   "cell_type": "code",
   "execution_count": 35,
   "metadata": {},
   "outputs": [
    {
     "name": "stdout",
     "output_type": "stream",
     "text": [
      "[4, 7, 5]\n",
      "[2, 4, 5, 7]\n",
      "[4, 7, 5]\n"
     ]
    }
   ],
   "source": [
    "pq_insert = minheap_insert\n",
    "pq_remove = minheap_extract\n",
    "pq_build = minheap_build\n",
    "\n",
    "#Driver programm\n",
    "\n",
    "x = (5, \"write code\")\n",
    "y = (7, \"release product\")\n",
    "z = (4, \"create test\")\n",
    "w = (2, \"write spec\")\n",
    "\n",
    "\n",
    "pq = pq_build([x[0], y[0], z[0]])\n",
    "print(pq)\n",
    "\n",
    "pq_insert (pq, w[0])               \n",
    "print(pq)\n",
    "               \n",
    "pq_remove (pq)\n",
    "print (pq)\n"
   ]
  },
  {
   "cell_type": "code",
   "execution_count": null,
   "metadata": {},
   "outputs": [],
   "source": []
  },
  {
   "cell_type": "markdown",
   "metadata": {},
   "source": [
    "# Temas avanzados (**)\n",
    "\n",
    "__(**) NO OBLIGATORIOS__  **Sólo** si tienes curiosidad y tiempo, recuerda que tienes otras asignaturas!!.\n",
    "\n",
    "## Heap de objetos (Items)\n",
    "\n",
    "*Referencia introduccción POO: *Introduction to Computation and Programming Using Python with Application to \n",
    "Computational Modeling and Understanding Data*, J. Guttag, Chapter 10 \n",
    "\n",
    "* El problema con el planteamiento anterior es que *rompemos* los objetos al desligar la prioridad de los datos de su información. En realidad **no** tenemos un Heap de objetos sino un un *heap de prioridades de objetos*. Si extrayésemos una prioridad del minHeap tendríamos que buscar a que objeto corresponde esa prioridad.  \n",
    "\n",
    "* Ahora queremos construir un *minHeap* en el que sus nodos sean *objetos (pares)* y no enteros. Para ello los objetos deben ser *objetos ordenables*, i.e, dados dos objetos cualesquiera deben poder compararse y decidir cual de ellos es menor. ¿Cómo podemos hacerlo? \n",
    "Una posibilidad es considerar a los objetos como pares con una *llave o clave* y un *valor* (llave, valor). \n",
    "Los objetos se compararán por el valor de su *llave*: dados dos objetos el menor será aquel cuya clave es menor. \n",
    "Es decir debemos *redefinir (sobrecargar)* el operador de comparación $<$.\n",
    "\n",
    "   En Python podemos construir tales objetos definiendo una clase e incorporando el método mágico `__lt__()`. En este caso hemos definido la clase `Item` con dos variable privadas `__key` y `__value`. \n",
    "    \n",
    "   En [pythontutor](https://pythontutor.com/render.html#code=_parent%20%3D%20lambda%20i%3A%20%20%28i-1%29//2%20%20%0A%0Adef%20_heapify%20%28h,%20i%29%3A%0A%20%20%20%20'''%20Version%202%20%28transparencias%29'''%0A%20%20%20%20while%202*i%2B1%20%3C%20len%28h%29%3A%0A%20%20%20%20%20%20%20%20n_i%20%3D%20i%0A%20%20%20%20%20%20%20%20%0A%20%20%20%20%20%20%20%20if%20h%5Bi%5D%20%3E%20h%5B2*i%2B1%5D%3A%0A%20%20%20%20%20%20%20%20%20%20%20%20n_i%20%3D%202*i%2B1%0A%20%20%20%20%20%20%20%20if%202*i%2B2%20%3C%20len%28h%29%20and%20h%5Bi%5D%20%3E%20h%5B2*i%2B2%5D%20and%20h%5B2*i%2B2%5D%20%3C%20h%5Bn_i%5D%3A%0A%20%20%20%20%20%20%20%20%20%20%20%20n_i%20%3D%202*i%2B2%0A%0A%20%20%20%20%20%20%20%20if%20n_i%20%3E%20i%3A%0A%20%20%20%20%20%20%20%20%20%20%20%20h%5Bi%5D,%20h%5Bn_i%5D%20%3D%20h%5Bn_i%5D,%20h%5Bi%5D%0A%20%20%20%20%20%20%20%20%20%20%20%20i%20%3D%20n_i%0A%20%20%20%20%20%20%20%20else%3A%0A%20%20%20%20%20%20%20%20%20%20%20%20return%0A%0Adef%20minheap_build%20%28l%3Alist%29%20-%3E%20list%3A%0A%20%20%20%20'''%20utiliza%20heapify'''%0A%20%20%20%20%0A%20%20%20%20j%20%3D%20_parent%28len%28l%29-1%29%20%20%23%C3%ADndice%20del%20padre%20del%20ultimo%20nodo%20%0A%0A%20%20%20%20while%20j%20%3E-1%3A%0A%20%20%20%20%20%20%20%20_heapify%20%28l,%20j%29%0A%20%20%20%20%20%20%20%20j%20-%3D%201%0A%20%20%20%20%20%20%20%20%20%20%20%0A%0Aclass%20Item%3A%0A%20%20%20%20'''Lightweight%20composite%20to%20store%20heap%20items.'''%0A%20%20%20%20%20%20%20%20%0A%20%20%20%20def%20__init__%28self,%20key%3Aint,%20value%3Astr%29%3A%0A%20%20%20%20%20%20%20%20'''Inicializa%20un%20objeto%20como%20un%20par%20%28llave%3Aint,%20valor%3AString%29'''%0A%20%20%20%20%20%20%20%20self._key%20%3D%20key%0A%20%20%20%20%20%20%20%20self._value%20%3D%20value%0A%20%20%20%20%0A%20%20%20%20def%20__lt__%28self,other%29%3A%0A%20%20%20%20%20%20%20%20'''Los%20objetos%20se%20comparan%20por%20el%20valor%20de%20su%20llave'''%0A%20%20%20%20%20%20%20%20return%20self._key%20%3C%20other._key%0A%20%20%20%20%0A%20%20%20%20def%20__str__%28self%29%3A%0A%20%20%20%20%20%20%20%20'''Consideramos%20que%20el%20valor%20de%20los%20objetos%20son%20cadenas%20de%20caracteres'''%0A%20%20%20%20%20%20%20%20return%20f'%28%7Bself._key%7D,%20%7Bself._value%7D%29'%0A%20%20%20%20%0A%20%20%20%20def%20__repr__%28self%29%3A%0A%20%20%20%20%20%20%20%20'''...'''%0A%20%20%20%20%20%20%20%20return%20str%28self%29%0A%20%20%20%20%20%20%20%20%0A%23%23%23%20Driver%20Programm%0A%0Ax%20%3D%20Item%2814,'Eduardo'%29%0Ay%20%3D%20Item%2810,%20%22Carlos%22%29%0A%0A%23%20Como%20cualquier%20objeto%20de%20Python,%20los%20items%20los%20podemos%20guardar%20en%20un%20contenedor%0Al%20%3D%20%5Bx,%20y%5D%0A%0A%23%20Podemos%20construir%20un%20Heap%0Aminheap_build%20%28l%29&cumulative=false&curInstr=40&heapPrimitives=nevernest&mode=display&origin=opt-frontend.js&py=3&rawInputLstJSON=%5B%5D&textReferences=false) se ha incluído una ejecución simplificada del *programa driver*."
   ]
  },
  {
   "cell_type": "code",
   "execution_count": 42,
   "metadata": {},
   "outputs": [
    {
     "name": "stdout",
     "output_type": "stream",
     "text": [
      "x: (5, write code), y:(7, release product)\n",
      "¿Es x < y?  True\n",
      "Despues de construir el min Heap: [(2, write spec), (5, write code), (4, create test), (7, release product)]\n",
      "Despues de extraer: [(4, create test), (5, write code), (7, release product)]\n"
     ]
    }
   ],
   "source": [
    "class Item:\n",
    "    '''Lightweight composite to store heap items.'''\n",
    "        \n",
    "    def __init__(self, key:int, value:str):\n",
    "        '''Inicializa un objeto como un par (llave:int, valor:String)'''\n",
    "        self._key = key\n",
    "        self._value = value\n",
    "    \n",
    "    def __lt__(self,other):\n",
    "        '''Los objetos se comparan por el valor de su llave'''\n",
    "        return self._key < other._key\n",
    "    \n",
    "    def __str__(self):\n",
    "        '''Consideramos que el valor de los objetos son cadenas de caracteres'''\n",
    "        return f'({self._key}, {self._value})'\n",
    "    \n",
    "    def __repr__(self):\n",
    "        '''...'''\n",
    "        return str(self)\n",
    "\n",
    "    \n",
    "### Driver Programm\n",
    "\n",
    "x = Item(5, \"write code\")\n",
    "y = Item(7, \"release product\")\n",
    "z = Item(4, \"create test\")\n",
    "w = Item(2, \"write spec\")\n",
    "\n",
    "\n",
    "# Los items son objetos ordenables. La comparación se hace a través de las claves \n",
    "print(f'x: {x}, y:{y}')\n",
    "print(f'¿Es x < y?  {x<y}') \n",
    "\n",
    "\n",
    "# Podemos construir un Heap con los items\n",
    "l = minheap_build ([x, y,  z, w])\n",
    "print(f'Despues de construir el min Heap: {l}')\n",
    "\n",
    "minheap_extract(l)\n",
    "print(f'Despues de extraer: {l}')\n"
   ]
  },
  {
   "cell_type": "markdown",
   "metadata": {},
   "source": [
    "* Podemos construir la cola de prioridad exactamente igual que antes enlazando las funciones de la cola de prioridad con las del Heap"
   ]
  },
  {
   "cell_type": "code",
   "execution_count": 37,
   "metadata": {},
   "outputs": [
    {
     "name": "stdout",
     "output_type": "stream",
     "text": [
      "[(5, Simone), (10, Carlos), (14, Eduardo)]\n",
      "[(1, Jose), (5, Simone), (14, Eduardo), (10, Carlos)]\n",
      "[(5, Simone), (10, Carlos), (14, Eduardo)]\n"
     ]
    }
   ],
   "source": [
    "pq_insert = minheap_insert\n",
    "pq_remove = minheap_extract\n",
    "pq_build = minheap_build\n",
    "\n",
    "pq = pq_build([x, y, z])\n",
    "print(pq)\n",
    "\n",
    "pq_insert (pq, w)               \n",
    "print(pq)\n",
    "               \n",
    "pq_remove (pq)\n",
    "print (pq)"
   ]
  },
  {
   "cell_type": "markdown",
   "metadata": {},
   "source": [
    "## Cola de prioridad como una clase (**)\n",
    "\n",
    "Referencia: *Data Structures and Algorithms in Python*, M. Goodrich et. al.  \n",
    "\n",
    "\n",
    "* Un planteamiento muy habitual es definir una clase para la cola de prioridad en la que el Heap es la estructura de datos que utilizamos para guardar los elementos de la PQ."
   ]
  },
  {
   "cell_type": "code",
   "execution_count": 38,
   "metadata": {},
   "outputs": [
    {
     "name": "stdout",
     "output_type": "stream",
     "text": [
      "[(5, write code), (7, release product)]\n",
      "[(7, release product)]\n",
      "[(4, create test), (7, release product)]\n",
      "2\n",
      "(4, create test)\n",
      "(7, release product)\n"
     ]
    }
   ],
   "source": [
    "class PriorityQueue:\n",
    "    '''......'''\n",
    "    def __init__(self, *tupla:Item):\n",
    "        # Estructura de datos para implementar la PQ \n",
    "        self._h = list(tupla)\n",
    "        \n",
    "        self._size = len(self._h)\n",
    "        \n",
    "        minheap_build (self._h)\n",
    "            \n",
    "    def extract(self):\n",
    "        return minheap_extract(self._h)\n",
    "    \n",
    "    def insert(self, obj):\n",
    "        return minheap_insert (self._h, obj)\n",
    "    \n",
    "    def __len__(self):\n",
    "        return self._size\n",
    "    \n",
    "    def __str__(self):\n",
    "        return str(self._h)\n",
    "    \n",
    "    def __iter__(self):\n",
    "        return iter(self._h)\n",
    "        \n",
    "              \n",
    "x, y, z = Item(5,\"write code\"), Item(7,\"release product\"), Item(2, 'write spec')      \n",
    "\n",
    "pq = PriorityQueue(x, y)    \n",
    "print(pq)\n",
    "\n",
    "pq.extract()\n",
    "print(pq)\n",
    "\n",
    "pq.insert(Item(4, \"create test\"))\n",
    "print(pq)\n",
    "\n",
    "print(len(pq))\n",
    "\n",
    "for i in pq:\n",
    "    print(i)"
   ]
  },
  {
   "cell_type": "markdown",
   "metadata": {},
   "source": [
    "* Si has investigado por la web, te habrás dado cuenta que el módulo `heapq` implementa *Heaps*. Podemos cambiar nuestra implementación de PQ para que utilice las funciones de este módulo."
   ]
  },
  {
   "cell_type": "code",
   "execution_count": 39,
   "metadata": {},
   "outputs": [
    {
     "name": "stdout",
     "output_type": "stream",
     "text": [
      "[(2, write spec), (7, release product), (5, write code)]\n"
     ]
    }
   ],
   "source": [
    "import heapq as hp\n",
    "\n",
    "x, y, z = Item(5,\"write code\"), Item(7,\"release product\"), Item(2, 'write spec')   \n",
    "\n",
    "# Prueba de las funciones de heapq\n",
    "h = []\n",
    "hp.heappush(h, x)\n",
    "hp.heappush(h, y)\n",
    "hp.heappush(h, z)\n",
    "print(h)"
   ]
  },
  {
   "cell_type": "code",
   "execution_count": 40,
   "metadata": {},
   "outputs": [
    {
     "name": "stdout",
     "output_type": "stream",
     "text": [
      "[(5, write code), (7, release product)]\n",
      "[(7, release product)]\n",
      "[(2, write spec), (7, release product)]\n",
      "2\n",
      "(2, write spec)\n",
      "(7, release product)\n"
     ]
    }
   ],
   "source": [
    "class PriorityQueueHeapq:\n",
    "    '''......'''\n",
    "    def __init__(self, *lista:Item):\n",
    "        self._h = []\n",
    "        self._size = len(lista)\n",
    "        \n",
    "        # inserta los objetos en la lista\n",
    "        for obj in lista:\n",
    "            hp.heappush (self._h, obj)\n",
    "            \n",
    "    def extract(self):\n",
    "        return hp.heappop(self._h)\n",
    "    \n",
    "    def insert(self, obj):\n",
    "        return hp.heappush (self._h, obj)\n",
    "    \n",
    "    def __len__(self):\n",
    "        return self._size\n",
    "    \n",
    "    def __str__(self):\n",
    "        return str(self._h)\n",
    "    \n",
    "    def __iter__(self):\n",
    "        return iter(self._h)\n",
    "        \n",
    "# Driver programm              \n",
    "            \n",
    "pq = PriorityQueueHeapq(x, y)    \n",
    "print(pq)\n",
    "\n",
    "pq.extract()\n",
    "print(pq)\n",
    "\n",
    "pq.insert(z)\n",
    "print(pq)\n",
    "\n",
    "print(len(pq))\n",
    "\n",
    "for i in pq:\n",
    "    print(i)"
   ]
  },
  {
   "cell_type": "code",
   "execution_count": null,
   "metadata": {},
   "outputs": [],
   "source": []
  }
 ],
 "metadata": {
  "hide_input": false,
  "kernelspec": {
   "display_name": "Python 3.9.12 ('base')",
   "language": "python",
   "name": "python3"
  },
  "language_info": {
   "codemirror_mode": {
    "name": "ipython",
    "version": 3
   },
   "file_extension": ".py",
   "mimetype": "text/x-python",
   "name": "python",
   "nbconvert_exporter": "python",
   "pygments_lexer": "ipython3",
   "version": "3.9.12"
  },
  "latex_envs": {
   "LaTeX_envs_menu_present": true,
   "autoclose": false,
   "autocomplete": true,
   "bibliofile": "biblio.bib",
   "cite_by": "apalike",
   "current_citInitial": 1,
   "eqLabelWithNumbers": true,
   "eqNumInitial": 1,
   "hotkeys": {
    "equation": "Ctrl-E",
    "itemize": "Ctrl-I"
   },
   "labels_anchors": false,
   "latex_user_defs": false,
   "report_style_numbering": false,
   "user_envs_cfg": false
  },
  "nbTranslate": {
   "displayLangs": [
    "en",
    "es"
   ],
   "hotkey": "alt-t",
   "langInMainMenu": true,
   "sourceLang": "es",
   "targetLang": "en",
   "useGoogleTranslate": true
  },
  "toc": {
   "base_numbering": 1,
   "nav_menu": {},
   "number_sections": true,
   "sideBar": true,
   "skip_h1_title": false,
   "title_cell": "Table of Contents",
   "title_sidebar": "Contents",
   "toc_cell": false,
   "toc_position": {},
   "toc_section_display": true,
   "toc_window_display": false
  },
  "vscode": {
   "interpreter": {
    "hash": "e8fac7edbe3fc3ee8dc4af7fb9891cac1e2a78a800a1446a0d4fe2e2c052a0fd"
   }
  }
 },
 "nbformat": 4,
 "nbformat_minor": 5
}
