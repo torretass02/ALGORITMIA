{
 "cells": [
  {
   "cell_type": "code",
   "execution_count": 3,
   "metadata": {},
   "outputs": [
    {
     "name": "stdout",
     "output_type": "stream",
     "text": [
      "[9 5 6 3 2]\n"
     ]
    }
   ],
   "source": [
    "import numpy as np\n",
    "from typing import List, Callable\n",
    "\n",
    "\n",
    "def max_heapify(h: np.ndarray, i: int):\n",
    "    while 2 * i + 1 < len(h):\n",
    "        n_i = i\n",
    "\n",
    "        if h[i] < h[2 * i + 1]:\n",
    "            n_i = 2 * i + 1\n",
    "        if 2 * i + 2 < len(h) and h[i] < h[2 * i + 2] and h[2 * i + 2] > h[n_i]:\n",
    "            n_i = 2 * i + 2\n",
    "\n",
    "        if n_i > i:\n",
    "            h[i], h[n_i] = h[n_i], h[i]\n",
    "            i = n_i\n",
    "        else:\n",
    "            return\n",
    "\n",
    "def create_max_heap(h: np.ndarray):\n",
    "    j = ((len(h) - 1) - 1) // 2\n",
    "    while j > -1:\n",
    "        max_heapify(h, j)\n",
    "        j -= 1\n",
    "    return h\n",
    "\n",
    "h = np.array([2,5,6,3,9])\n",
    "\n",
    "t = create_max_heap(h)\n",
    "print(t)\n"
   ]
  }
 ],
 "metadata": {
  "kernelspec": {
   "display_name": "Python 3.9.12 ('base')",
   "language": "python",
   "name": "python3"
  },
  "language_info": {
   "codemirror_mode": {
    "name": "ipython",
    "version": 3
   },
   "file_extension": ".py",
   "mimetype": "text/x-python",
   "name": "python",
   "nbconvert_exporter": "python",
   "pygments_lexer": "ipython3",
   "version": "3.9.12"
  },
  "orig_nbformat": 4,
  "vscode": {
   "interpreter": {
    "hash": "e8fac7edbe3fc3ee8dc4af7fb9891cac1e2a78a800a1446a0d4fe2e2c052a0fd"
   }
  }
 },
 "nbformat": 4,
 "nbformat_minor": 2
}
