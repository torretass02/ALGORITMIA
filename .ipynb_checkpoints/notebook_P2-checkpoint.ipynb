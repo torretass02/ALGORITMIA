{
 "cells": [
  {
   "cell_type": "code",
   "execution_count": 7,
   "id": "cf40523c",
   "metadata": {},
   "outputs": [
    {
     "data": {
      "text/plain": [
       "array([-1, -1, -1, -1, -1])"
      ]
     },
     "execution_count": 7,
     "metadata": {},
     "output_type": "execute_result"
    }
   ],
   "source": [
    "'INIT'\n",
    "\n",
    "import numpy as np\n",
    "def init_cd(n: int)-> np.ndarray:\n",
    "    arr = np.ones(n).astype(int)*-1\n",
    "    return arr\n",
    "\n",
    "a = 5\n",
    "init_cd(a)\n"
   ]
  },
  {
   "cell_type": "code",
   "execution_count": 31,
   "id": "ec1de871",
   "metadata": {},
   "outputs": [
    {
     "name": "stdout",
     "output_type": "stream",
     "text": [
      "0\n",
      "0\n",
      "0\n"
     ]
    }
   ],
   "source": [
    "'UNION'\n",
    "\n",
    "import numpy as np\n",
    "def find(ind: int, p_cd: np.ndarray)-> int:\n",
    "    #z = ind\n",
    "    #while p_cd[z] >= -1:\n",
    "    #        z = p_cd[z]\n",
    "    #while p_cd[ind] > -1:\n",
    "    #        y = p_cd[ind]\n",
    "    #        p[ind] = z\n",
    "    #        ind = y\n",
    "    #return z\n",
    "    while p_cd[ind] > -1:\n",
    "        ind = p_cd[ind]\n",
    "    return ind\n",
    "\n",
    "def union(rep_1: int, rep_2: int, p_cd: np.ndarray)-> int:\n",
    "    x = find (rep_1, p_cd)\n",
    "    y = find (rep_2, p_cd)\n",
    "        \n",
    "    if x == y:\n",
    "        return -1\n",
    "        \n",
    "    if p_cd[y] < p_cd[x]:\n",
    "        p_cd[x] = y\n",
    "        ret = y\n",
    "    elif p_cd[y] > p_cd[x]:\n",
    "        p_cd[y] = x\n",
    "        ret = x\n",
    "    else:\n",
    "        p_cd[y] = x\n",
    "        p_cd[x] -= 1\n",
    "        ret =  x   \n",
    "    return ret\n",
    "\n",
    "p =np.array([-2, 0, 1, -2, 3, 4, -1, -2, 7, 8])\n",
    "    \n",
    "h = union(find(1, p), find(5, p), p)\n",
    "print(h)\n",
    "h = union(find(2, p), find(6, p), p)\n",
    "print(h)\n",
    "h = union(find(5, p), find(9, p), p)\n",
    "print(h)"
   ]
  },
  {
   "cell_type": "code",
   "execution_count": 93,
   "id": "ff8ac24f",
   "metadata": {},
   "outputs": [
    {
     "name": "stdout",
     "output_type": "stream",
     "text": [
      "3\n"
     ]
    }
   ],
   "source": [
    "'FIND'\n",
    "\n",
    "import numpy as np\n",
    "\n",
    "def find(ind: int, p_cd: np.ndarray)-> int:\n",
    "    z = ind\n",
    "    while p_cd[z] >= -1:\n",
    "            z = p_cd[z]\n",
    "    while p_cd[ind] > -1:\n",
    "            y = p_cd[ind]\n",
    "            p[ind] = z\n",
    "            ind = y\n",
    "    return z\n",
    "\n",
    "p =np.array([-2, 0, 1, -2, 3, 4, -1, -2, 7, 8])\n",
    "h = find(4,p)\n",
    "print(h)"
   ]
  },
  {
   "cell_type": "code",
   "execution_count": 26,
   "id": "6bd5a8c6",
   "metadata": {},
   "outputs": [
    {
     "name": "stdout",
     "output_type": "stream",
     "text": [
      "-4\n",
      "[0]\n",
      "[0, 1]\n",
      "-2\n",
      "[3]\n",
      "[3, 4]\n",
      "-1\n",
      "-5\n",
      "[7]\n",
      "[7, 8]\n",
      "{-4: [0, 1], -2: [3, 4], -1: [], -5: [7, 8]}\n"
     ]
    }
   ],
   "source": [
    "'DICT'\n",
    "\n",
    "from typing import ItemsView\n",
    "import numpy as np\n",
    "def cd_2_dict(p_cd: np.ndarray)-> dict:\n",
    "    d = {}\n",
    "    for i in range(len(p_cd)):\n",
    "        if p_cd[i] < 0:\n",
    "            d[p_cd[i]] = []\n",
    "            key = p_cd[i]\n",
    "        else:\n",
    "            d[key] += [p_cd[i]]\n",
    "\n",
    "    return d\n",
    "\n",
    "\n",
    "p =np.array([-4, 0, 1, -2, 3, 4, -1, -5, 7, 8])\n",
    "dic = cd_2_dict(p)\n",
    "print(p)\n",
    "print(dic)"
   ]
  },
  {
   "cell_type": "code",
   "execution_count": 24,
   "id": "4cf8535d",
   "metadata": {},
   "outputs": [
    {
     "name": "stdout",
     "output_type": "stream",
     "text": [
      "{1: [3], 2: [4]}\n"
     ]
    }
   ],
   "source": [
    "d = {}\n",
    "d[1] = []\n",
    "d[2] = []\n",
    "d[1]+=[3]\n",
    "d[2]+=[4]\n",
    "print(d)"
   ]
  }
 ],
 "metadata": {
  "kernelspec": {
   "display_name": "Python 3 (ipykernel)",
   "language": "python",
   "name": "python3"
  },
  "language_info": {
   "codemirror_mode": {
    "name": "ipython",
    "version": 3
   },
   "file_extension": ".py",
   "mimetype": "text/x-python",
   "name": "python",
   "nbconvert_exporter": "python",
   "pygments_lexer": "ipython3",
   "version": "3.9.12"
  },
  "vscode": {
   "interpreter": {
    "hash": "e8fac7edbe3fc3ee8dc4af7fb9891cac1e2a78a800a1446a0d4fe2e2c052a0fd"
   }
  }
 },
 "nbformat": 4,
 "nbformat_minor": 5
}
