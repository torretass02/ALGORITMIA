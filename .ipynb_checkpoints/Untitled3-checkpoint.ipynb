{
 "cells": [
  {
   "cell_type": "code",
   "execution_count": 113,
   "id": "e2d44d1b",
   "metadata": {},
   "outputs": [
    {
     "data": {
      "text/plain": [
       "(1, 3)"
      ]
     },
     "execution_count": 113,
     "metadata": {},
     "output_type": "execute_result"
    }
   ],
   "source": [
    "import numpy as np\n",
    "\n",
    "def dos_menores_elementos(h:np.ndarray)->tuple([int, int]):\n",
    "    \n",
    "    if h[0]<h[1]:\n",
    "        min1 = h[0]\n",
    "        min2 = h[1]\n",
    "    else:\n",
    "        min1 = h[1]\n",
    "        min2 = h[0]\n",
    "    \n",
    "    for i in range(2,len(h)):\n",
    "        if h[i] < min1:\n",
    "            aux = min1\n",
    "            min1 = h[i]\n",
    "            min2 = aux\n",
    "        elif h[i]<min2:\n",
    "            min2 = h[i]\n",
    "               \n",
    "    return (min1, min2)\n",
    "\n",
    "a = [32, 443, 643 ,64, 4, 5]\n",
    "\n",
    "dos_menores_elementos(a)"
   ]
  },
  {
   "cell_type": "code",
   "execution_count": 114,
   "id": "585bf38a",
   "metadata": {},
   "outputs": [
    {
     "ename": "AttributeError",
     "evalue": "'list' object has no attribute 'shape'",
     "output_type": "error",
     "traceback": [
      "\u001b[0;31m---------------------------------------------------------------------------\u001b[0m",
      "\u001b[0;31mAttributeError\u001b[0m                            Traceback (most recent call last)",
      "Cell \u001b[0;32mIn [114], line 15\u001b[0m\n\u001b[1;32m     13\u001b[0m b\u001b[38;5;241m=\u001b[39m[[\u001b[38;5;241m2\u001b[39m,\u001b[38;5;241m2\u001b[39m], [\u001b[38;5;241m2\u001b[39m,\u001b[38;5;241m2\u001b[39m], [\u001b[38;5;241m2\u001b[39m,\u001b[38;5;241m2\u001b[39m]]\n\u001b[1;32m     14\u001b[0m X \u001b[38;5;241m=\u001b[39m []\n\u001b[0;32m---> 15\u001b[0m X \u001b[38;5;241m=\u001b[39m matrix_multiplication(a, b)\n\u001b[1;32m     17\u001b[0m \u001b[38;5;28mprint\u001b[39m(X)\n",
      "Cell \u001b[0;32mIn [114], line 4\u001b[0m, in \u001b[0;36mmatrix_multiplication\u001b[0;34m(m_1, m_2)\u001b[0m\n\u001b[1;32m      2\u001b[0m \u001b[38;5;28;01mdef\u001b[39;00m \u001b[38;5;21mmatrix_multiplication\u001b[39m(m_1: np\u001b[38;5;241m.\u001b[39mndarray, m_2 : np\u001b[38;5;241m.\u001b[39mndarray):\n\u001b[1;32m      3\u001b[0m     n_rows, n_interm, n_columns \u001b[38;5;241m=\u001b[39m \\\n\u001b[0;32m----> 4\u001b[0m     \u001b[43mm_1\u001b[49m\u001b[38;5;241;43m.\u001b[39;49m\u001b[43mshape\u001b[49m[\u001b[38;5;241m0\u001b[39m], m_2\u001b[38;5;241m.\u001b[39mshape[\u001b[38;5;241m0\u001b[39m], m_2\u001b[38;5;241m.\u001b[39mshape[\u001b[38;5;241m1\u001b[39m]\n\u001b[1;32m      5\u001b[0m     m_product \u001b[38;5;241m=\u001b[39m np\u001b[38;5;241m.\u001b[39mzeros((n_rows, n_columns))\n\u001b[1;32m      6\u001b[0m     \u001b[38;5;28;01mfor\u001b[39;00m p \u001b[38;5;129;01min\u001b[39;00m \u001b[38;5;28mrange\u001b[39m(n_rows):\n",
      "\u001b[0;31mAttributeError\u001b[0m: 'list' object has no attribute 'shape'"
     ]
    }
   ],
   "source": [
    "import numpy as np\n",
    "def matrix_multiplication(m_1: np.ndarray, m_2 : np.ndarray):\n",
    "    n_rows, n_interm, n_columns = \\\n",
    "    m_1.shape[0], m_2.shape[0], m_2.shape[1]\n",
    "    m_product = np.zeros((n_rows, n_columns))\n",
    "    for p in range(n_rows):\n",
    "        for q in range(n_columns):\n",
    "            for r in range(n_interm):\n",
    "                m_product[p, q] += m_1[p, r] * m_2[r, q]\n",
    "    return m_product\n",
    "\n",
    "a=[[2,2,2], [3,3,3]]\n",
    "b=[[2,2], [2,2], [2,2]]\n",
    "X = []\n",
    "X = matrix_multiplication(a, b)\n",
    "\n",
    "print(X)"
   ]
  },
  {
   "cell_type": "code",
   "execution_count": 1,
   "id": "9f86b671",
   "metadata": {},
   "outputs": [
    {
     "ename": "NameError",
     "evalue": "name 'matrix_multiplication' is not defined",
     "output_type": "error",
     "traceback": [
      "\u001b[0;31m---------------------------------------------------------------------------\u001b[0m",
      "\u001b[0;31mNameError\u001b[0m                                 Traceback (most recent call last)",
      "Cell \u001b[0;32mIn [1], line 17\u001b[0m\n\u001b[1;32m     15\u001b[0m b\u001b[38;5;241m=\u001b[39m[[\u001b[38;5;241m2\u001b[39m,\u001b[38;5;241m2\u001b[39m], [\u001b[38;5;241m2\u001b[39m,\u001b[38;5;241m2\u001b[39m], [\u001b[38;5;241m2\u001b[39m,\u001b[38;5;241m2\u001b[39m]]\n\u001b[1;32m     16\u001b[0m x \u001b[38;5;241m=\u001b[39m []\n\u001b[0;32m---> 17\u001b[0m x \u001b[38;5;241m=\u001b[39m matrix_multiplication(a, b)\n\u001b[1;32m     18\u001b[0m \u001b[38;5;28mprint\u001b[39m(x)\n",
      "\u001b[0;31mNameError\u001b[0m: name 'matrix_multiplication' is not defined"
     ]
    }
   ],
   "source": [
    "import numpy as np\n",
    "\n",
    "def matrix_multiplication2(m_1:np.ndarray, m_2:np.ndarray)->np.ndarray:\n",
    "    n_rows, n_interm, n_columns = \\\n",
    "    m_1.shape[0], m_2.shape[0], m_2.shape[1]\n",
    "    m_product = np.zeros((n_rows, n_columns))\n",
    "\n",
    "    for p in range(n_rows):\n",
    "        for q in range(n_columns):\n",
    "            for r in range(n_interm):\n",
    "                m_product[p, q] += m_1[p, r] * m_2[r, q]\n",
    "    return m_product\n",
    "\n",
    "a=[[2,2,2], [3,3,3]]\n",
    "b=[[2,2], [2,2], [2,2]]\n",
    "x = []\n",
    "x = matrix_multiplication(a, b)\n",
    "print(x)"
   ]
  },
  {
   "cell_type": "code",
   "execution_count": null,
   "id": "4ed55566",
   "metadata": {},
   "outputs": [],
   "source": [
    "'NUESTRA FORMA'\n",
    "import numpy as np\n",
    "def matrix_multiplication(m1: np.ndarray, m2 : np.ndarray) :\n",
    "    if len (m1[0]) == len (m2): \n",
    "        m3 = []\n",
    "        for i in range (len (m1)):\n",
    "            m3.append ([])\n",
    "            for j in range (len (m2[0])):\n",
    "                m3 [i].append(0)\n",
    "        \n",
    "        for i in range (len (m1)):\n",
    "            for j in range (len (m2[0])):\n",
    "                for k in range(len(m1[0])):\n",
    "                    m3[i][j] += m1[i][j] * m2[k][j]\n",
    "        return m3\n",
    "    else: \n",
    "        return None"
   ]
  }
 ],
 "metadata": {
  "kernelspec": {
   "display_name": "Python 3",
   "language": "python",
   "name": "python3"
  },
  "language_info": {
   "codemirror_mode": {
    "name": "ipython",
    "version": 3
   },
   "file_extension": ".py",
   "mimetype": "text/x-python",
   "name": "python",
   "nbconvert_exporter": "python",
   "pygments_lexer": "ipython3",
   "version": "3.9.12"
  }
 },
 "nbformat": 4,
 "nbformat_minor": 5
}
