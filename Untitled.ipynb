{
 "cells": [
  {
   "cell_type": "code",
   "execution_count": 19,
   "id": "3c78765f",
   "metadata": {},
   "outputs": [
    {
     "ename": "TypeError",
     "evalue": "object of type 'numpy.int64' has no len()",
     "output_type": "error",
     "traceback": [
      "\u001b[0;31m---------------------------------------------------------------------------\u001b[0m",
      "\u001b[0;31mTypeError\u001b[0m                                 Traceback (most recent call last)",
      "Cell \u001b[0;32mIn [19], line 22\u001b[0m\n\u001b[1;32m     19\u001b[0m A\u001b[39m=\u001b[39mnp\u001b[39m.\u001b[39marray([\u001b[39m0\u001b[39m,\u001b[39m2\u001b[39m,\u001b[39m3\u001b[39m,\u001b[39m4\u001b[39m])\n\u001b[1;32m     20\u001b[0m B\u001b[39m=\u001b[39mnp\u001b[39m.\u001b[39marray([\u001b[39m3\u001b[39m,\u001b[39m3\u001b[39m,\u001b[39m2\u001b[39m,\u001b[39m5\u001b[39m])\n\u001b[0;32m---> 22\u001b[0m A \u001b[39m=\u001b[39m matrix_multiplication(A, B)\n\u001b[1;32m     24\u001b[0m \u001b[39mprint\u001b[39m(A)\n",
      "Cell \u001b[0;32mIn [19], line 4\u001b[0m, in \u001b[0;36mmatrix_multiplication\u001b[0;34m(m1, m2)\u001b[0m\n\u001b[1;32m      3\u001b[0m \u001b[39mdef\u001b[39;00m \u001b[39mmatrix_multiplication\u001b[39m(m1: np\u001b[39m.\u001b[39mndarray, m2 : np\u001b[39m.\u001b[39mndarray) :\n\u001b[0;32m----> 4\u001b[0m     \u001b[39mif\u001b[39;00m \u001b[39mlen\u001b[39;49m (m1[\u001b[39m0\u001b[39;49m]) \u001b[39m==\u001b[39m \u001b[39mlen\u001b[39m (m2): \n\u001b[1;32m      5\u001b[0m         m3 \u001b[39m=\u001b[39m []\n\u001b[1;32m      6\u001b[0m         \u001b[39mfor\u001b[39;00m i \u001b[39min\u001b[39;00m \u001b[39mrange\u001b[39m (\u001b[39mlen\u001b[39m (m1)):\n",
      "\u001b[0;31mTypeError\u001b[0m: object of type 'numpy.int64' has no len()"
     ]
    }
   ],
   "source": [
    "'NUESTRA FORMA'\n",
    "import numpy as np\n",
    "def matrix_multiplication(m1: np.ndarray, m2 : np.ndarray) :\n",
    "    if len (m1[0]) == len (m2): \n",
    "        m3 = []\n",
    "        for i in range (len (m1)):\n",
    "            m3.append ([])\n",
    "            for j in range (len (m2[0])):\n",
    "                m3 [i].append(0)\n",
    "        \n",
    "        for i in range (len (m1)):\n",
    "            for j in range (len (m2[0])):\n",
    "                for k in range(len(m1[0])):\n",
    "                    m3[i][j] += m1[i][j] * m2[k][j]\n",
    "        return m3\n",
    "    else: \n",
    "        return None\n",
    "\n",
    "A=np.array([0,2,3,4])\n",
    "B=np.array([3,3,2,5])\n",
    "\n",
    "A = matrix_multiplication(A, B)\n",
    "\n",
    "print(A)"
   ]
  },
  {
   "cell_type": "code",
   "execution_count": null,
   "id": "7ae3b23d",
   "metadata": {},
   "outputs": [],
   "source": []
  },
  {
   "cell_type": "code",
   "execution_count": 5,
   "id": "84e52dae",
   "metadata": {},
   "outputs": [
    {
     "ename": "AttributeError",
     "evalue": "'list' object has no attribute 'shape'",
     "output_type": "error",
     "traceback": [
      "\u001b[0;31m---------------------------------------------------------------------------\u001b[0m",
      "\u001b[0;31mAttributeError\u001b[0m                            Traceback (most recent call last)",
      "Cell \u001b[0;32mIn [5], line 18\u001b[0m\n\u001b[1;32m     15\u001b[0m A\u001b[39m=\u001b[39m[\u001b[39m0\u001b[39m,\u001b[39m2\u001b[39m,\u001b[39m3\u001b[39m,\u001b[39m4\u001b[39m]\n\u001b[1;32m     16\u001b[0m B\u001b[39m=\u001b[39m[\u001b[39m3\u001b[39m,\u001b[39m3\u001b[39m,\u001b[39m2\u001b[39m,\u001b[39m5\u001b[39m]\n\u001b[0;32m---> 18\u001b[0m A \u001b[39m=\u001b[39m matrix_multiplication2(A, B)\n\u001b[1;32m     20\u001b[0m \u001b[39mprint\u001b[39m(A)\n",
      "Cell \u001b[0;32mIn [5], line 7\u001b[0m, in \u001b[0;36mmatrix_multiplication2\u001b[0;34m(m_1, m_2)\u001b[0m\n\u001b[1;32m      5\u001b[0m \u001b[39mdef\u001b[39;00m \u001b[39mmatrix_multiplication2\u001b[39m(m_1 : np\u001b[39m.\u001b[39mndarray, m_2:np\u001b[39m.\u001b[39mndarray)\u001b[39m-\u001b[39m\u001b[39m>\u001b[39mnp\u001b[39m.\u001b[39mndarray:\n\u001b[1;32m      6\u001b[0m     n_rows, n_interm, n_columns \u001b[39m=\u001b[39m \\\n\u001b[0;32m----> 7\u001b[0m     m_1\u001b[39m.\u001b[39;49mshape[\u001b[39m0\u001b[39m], m_2\u001b[39m.\u001b[39mshape[\u001b[39m0\u001b[39m], m_2\u001b[39m.\u001b[39mshape[\u001b[39m1\u001b[39m]\n\u001b[1;32m      8\u001b[0m     m_product \u001b[39m=\u001b[39m np\u001b[39m.\u001b[39mzeros((n_rows, n_columns))\n\u001b[1;32m      9\u001b[0m     \u001b[39mfor\u001b[39;00m p \u001b[39min\u001b[39;00m \u001b[39mrange\u001b[39m(n_rows):\n",
      "\u001b[0;31mAttributeError\u001b[0m: 'list' object has no attribute 'shape'"
     ]
    }
   ],
   "source": [
    "'FORMA MOODLE'\n",
    "import numpy as np\n",
    "from typing import List, Callable\n",
    "\n",
    "def matrix_multiplication2(m_1 : np.ndarray, m_2:np.ndarray)->np.ndarray:\n",
    "    n_rows, n_interm, n_columns = \\\n",
    "    m_1.shape[0], m_2.shape[0], m_2.shape[1]\n",
    "    m_product = np.zeros((n_rows, n_columns))\n",
    "    for p in range(n_rows):\n",
    "        for q in range(n_columns):\n",
    "            for r in range(n_interm):\n",
    "                m_product[p, q] += m_1[p, r] * m_2[r, q]\n",
    "    return m_product\n",
    "\n",
    "A=[0,2,3,4]\n",
    "B=[3,3,2,5]\n",
    "\n",
    "A = matrix_multiplication2(A, B)\n",
    "\n",
    "print(A)"
   ]
  },
  {
   "cell_type": "code",
   "execution_count": 14,
   "id": "68bf3572",
   "metadata": {},
   "outputs": [
    {
     "name": "stdout",
     "output_type": "stream",
     "text": [
      "[[10, 0.0007298256000012771], [11, 0.0006817470999976649], [12, 0.0008379214999877149], [13, 0.001074471399988397], [14, 0.0018198258000211355], [15, 0.0016059094999945956], [16, 0.001948559899983593], [17, 0.002618328199969255], [18, 0.002920485599997846], [19, 0.003386213700014196], [20, 0.003977381400000013]]\n"
     ]
    }
   ],
   "source": [
    "'TIEMPO DE EJECUCION FORMA MOODLE '\n",
    "\n",
    "import numpy as np\n",
    "l_timings = []\n",
    "for i in range(11):\n",
    "    dim = 10+i\n",
    "    m = np.random.uniform(0., 1., (dim, dim))\n",
    "    timings = %timeit -o -n 10 -r 5 -q matrix_multiplication2(m, m)\n",
    "    l_timings.append([dim, timings.best])\n",
    "\n",
    "print(l_timings)"
   ]
  },
  {
   "cell_type": "code",
   "execution_count": 2,
   "id": "522ce056",
   "metadata": {},
   "outputs": [
    {
     "name": "stdout",
     "output_type": "stream",
     "text": [
      "[[10, 0.0005005576999792538], [11, 0.0006485589000021719], [12, 0.0008670683999980611], [13, 0.0010785999999825436], [14, 0.001342190400009713], [15, 0.0016535235999981523], [16, 0.0020045931999902677], [17, 0.0023569223000095008], [18, 0.0028421164000064893], [19, 0.0032951465999985887], [20, 0.0038111785000182865]]\n"
     ]
    }
   ],
   "source": [
    "'TIEMPO DE EJECUCION NUESTRA FORMA DE HACERLO'\n",
    "\n",
    "import numpy as np\n",
    "l_timings = []\n",
    "for i in range(11):\n",
    "    dim = 10+i\n",
    "    m = np.random.uniform(0., 1., (dim, dim))\n",
    "    timings = %timeit -o -n 10 -r 5 -q matrix_multiplication(m, m)\n",
    "    l_timings.append([dim, timings.best])\n",
    "\n",
    "print(l_timings)\n"
   ]
  },
  {
   "cell_type": "code",
   "execution_count": 1,
   "id": "785b506a",
   "metadata": {},
   "outputs": [
    {
     "name": "stdout",
     "output_type": "stream",
     "text": [
      "[[10, 1.4112000371824252e-06], [11, 3.41190002473013e-06], [12, 3.601600019464968e-06], [13, 3.623400016294909e-06], [14, 3.651900033219135e-06], [15, 3.6745999750564805e-06], [16, 1.656500035096542e-06], [17, 1.8156000351154945e-06], [18, 1.8511999769543762e-06], [19, 1.9814000097539975e-06], [20, 1.970699986486579e-06]]\n"
     ]
    }
   ],
   "source": [
    "'TIEMPOS DE EJECUCION NP.DOT'\n",
    "\n",
    "import numpy as np\n",
    "l_timings = []\n",
    "for i in range(11):\n",
    "    dim = 10+i\n",
    "    m = np.random.uniform(0., 1., (dim, dim))\n",
    "    timings = %timeit -o -n 10 -r 5 -q np.dot(m, m)\n",
    "    l_timings.append([dim, timings.best])\n",
    "\n",
    "print(l_timings)"
   ]
  },
  {
   "cell_type": "code",
   "execution_count": 26,
   "id": "5c6c48bb",
   "metadata": {},
   "outputs": [],
   "source": [
    "'BUSQUEDA BINARIA CON RECURSION'\n",
    "\n",
    "def rec_bb(t: list, f: int, l: int, key: int):\n",
    "    if f>l:\n",
    "        return\n",
    "    if f == l:\n",
    "        if key == t[f]:\n",
    "            return f\n",
    "        else:\n",
    "            return None\n",
    "    \n",
    "    mid = (f + l)//2\n",
    "    \n",
    "    if key == t[mid]:\n",
    "        return mid\n",
    "    elif key < t[mid]:\n",
    "        return rec_bb(t, f, mid-1, key)\n",
    "    else:\n",
    "        return rec_bb(t, mid+1, l, key)\n",
    "    "
   ]
  },
  {
   "cell_type": "code",
   "execution_count": null,
   "id": "3ecab725",
   "metadata": {},
   "outputs": [],
   "source": []
  },
  {
   "cell_type": "code",
   "execution_count": 134,
   "id": "10a7a2ae",
   "metadata": {},
   "outputs": [],
   "source": [
    "'BUSUQUEDA BINARIA SIN RECURSION'\n",
    "from traitlets import List\n",
    "import numpy as np\n",
    "def bb(t: List, f: int, l: int, key: int):\n",
    "\n",
    "    while f <= l:\n",
    "        mid = (f + l)//2\n",
    "        \n",
    "        if key == t[mid]:\n",
    "            return mid\n",
    "        elif key < t[mid]:\n",
    "            l = mid-1\n",
    "        else:\n",
    "            f = mid+1\n",
    "            "
   ]
  },
  {
   "cell_type": "code",
   "execution_count": 5,
   "id": "91a3905c",
   "metadata": {},
   "outputs": [
    {
     "ename": "NameError",
     "evalue": "name 'bb' is not defined",
     "output_type": "error",
     "traceback": [
      "\u001b[0;31m---------------------------------------------------------------------------\u001b[0m",
      "\u001b[0;31mNameError\u001b[0m                                 Traceback (most recent call last)",
      "Cell \u001b[0;32mIn [5], line 10\u001b[0m\n\u001b[1;32m      8\u001b[0m     t \u001b[38;5;241m=\u001b[39m \u001b[38;5;28mlist\u001b[39m(\u001b[38;5;28mrange\u001b[39m(\u001b[38;5;241m2\u001b[39m\u001b[38;5;241m*\u001b[39m\u001b[38;5;241m*\u001b[39mi \u001b[38;5;241m*\u001b[39m size))\n\u001b[1;32m      9\u001b[0m     key \u001b[38;5;241m=\u001b[39m \u001b[38;5;241m10\u001b[39m\n\u001b[0;32m---> 10\u001b[0m     timings \u001b[38;5;241m=\u001b[39m \u001b[43mget_ipython\u001b[49m\u001b[43m(\u001b[49m\u001b[43m)\u001b[49m\u001b[38;5;241;43m.\u001b[39;49m\u001b[43mrun_line_magic\u001b[49m\u001b[43m(\u001b[49m\u001b[38;5;124;43m'\u001b[39;49m\u001b[38;5;124;43mtimeit\u001b[39;49m\u001b[38;5;124;43m'\u001b[39;49m\u001b[43m,\u001b[49m\u001b[43m \u001b[49m\u001b[38;5;124;43m'\u001b[39;49m\u001b[38;5;124;43m-n 100 -r 10 -o -q bb(t, 0, len(t) - 1, key)\u001b[39;49m\u001b[38;5;124;43m'\u001b[39;49m\u001b[43m)\u001b[49m\n\u001b[1;32m     11\u001b[0m     l_times\u001b[38;5;241m.\u001b[39mappend([\u001b[38;5;28mlen\u001b[39m(t), timings\u001b[38;5;241m.\u001b[39mbest])\n\u001b[1;32m     13\u001b[0m times \u001b[38;5;241m=\u001b[39m np\u001b[38;5;241m.\u001b[39marray(l_times)\n",
      "File \u001b[0;32m~/miniconda3/lib/python3.9/site-packages/IPython/core/interactiveshell.py:2309\u001b[0m, in \u001b[0;36mInteractiveShell.run_line_magic\u001b[0;34m(self, magic_name, line, _stack_depth)\u001b[0m\n\u001b[1;32m   2307\u001b[0m     kwargs[\u001b[39m'\u001b[39m\u001b[39mlocal_ns\u001b[39m\u001b[39m'\u001b[39m] \u001b[39m=\u001b[39m \u001b[39mself\u001b[39m\u001b[39m.\u001b[39mget_local_scope(stack_depth)\n\u001b[1;32m   2308\u001b[0m \u001b[39mwith\u001b[39;00m \u001b[39mself\u001b[39m\u001b[39m.\u001b[39mbuiltin_trap:\n\u001b[0;32m-> 2309\u001b[0m     result \u001b[39m=\u001b[39m fn(\u001b[39m*\u001b[39;49margs, \u001b[39m*\u001b[39;49m\u001b[39m*\u001b[39;49mkwargs)\n\u001b[1;32m   2310\u001b[0m \u001b[39mreturn\u001b[39;00m result\n",
      "File \u001b[0;32m~/miniconda3/lib/python3.9/site-packages/IPython/core/magics/execution.py:1166\u001b[0m, in \u001b[0;36mExecutionMagics.timeit\u001b[0;34m(self, line, cell, local_ns)\u001b[0m\n\u001b[1;32m   1163\u001b[0m         \u001b[39mif\u001b[39;00m time_number \u001b[39m>\u001b[39m\u001b[39m=\u001b[39m \u001b[39m0.2\u001b[39m:\n\u001b[1;32m   1164\u001b[0m             \u001b[39mbreak\u001b[39;00m\n\u001b[0;32m-> 1166\u001b[0m all_runs \u001b[39m=\u001b[39m timer\u001b[39m.\u001b[39;49mrepeat(repeat, number)\n\u001b[1;32m   1167\u001b[0m best \u001b[39m=\u001b[39m \u001b[39mmin\u001b[39m(all_runs) \u001b[39m/\u001b[39m number\n\u001b[1;32m   1168\u001b[0m worst \u001b[39m=\u001b[39m \u001b[39mmax\u001b[39m(all_runs) \u001b[39m/\u001b[39m number\n",
      "File \u001b[0;32m~/miniconda3/lib/python3.9/timeit.py:205\u001b[0m, in \u001b[0;36mTimer.repeat\u001b[0;34m(self, repeat, number)\u001b[0m\n\u001b[1;32m    203\u001b[0m r \u001b[39m=\u001b[39m []\n\u001b[1;32m    204\u001b[0m \u001b[39mfor\u001b[39;00m i \u001b[39min\u001b[39;00m \u001b[39mrange\u001b[39m(repeat):\n\u001b[0;32m--> 205\u001b[0m     t \u001b[39m=\u001b[39m \u001b[39mself\u001b[39;49m\u001b[39m.\u001b[39;49mtimeit(number)\n\u001b[1;32m    206\u001b[0m     r\u001b[39m.\u001b[39mappend(t)\n\u001b[1;32m    207\u001b[0m \u001b[39mreturn\u001b[39;00m r\n",
      "File \u001b[0;32m~/miniconda3/lib/python3.9/site-packages/IPython/core/magics/execution.py:156\u001b[0m, in \u001b[0;36mTimer.timeit\u001b[0;34m(self, number)\u001b[0m\n\u001b[1;32m    154\u001b[0m gc\u001b[39m.\u001b[39mdisable()\n\u001b[1;32m    155\u001b[0m \u001b[39mtry\u001b[39;00m:\n\u001b[0;32m--> 156\u001b[0m     timing \u001b[39m=\u001b[39m \u001b[39mself\u001b[39;49m\u001b[39m.\u001b[39;49minner(it, \u001b[39mself\u001b[39;49m\u001b[39m.\u001b[39;49mtimer)\n\u001b[1;32m    157\u001b[0m \u001b[39mfinally\u001b[39;00m:\n\u001b[1;32m    158\u001b[0m     \u001b[39mif\u001b[39;00m gcold:\n",
      "File \u001b[0;32m<magic-timeit>:1\u001b[0m, in \u001b[0;36minner\u001b[0;34m(_it, _timer)\u001b[0m\n",
      "\u001b[0;31mNameError\u001b[0m: name 'bb' is not defined"
     ]
    }
   ],
   "source": [
    "'TIEMPOS DE EJECICION BB SIN RECURSION'\n",
    "\n",
    "l_times = []\n",
    "import numpy as np\n",
    "from traitlets import List\n",
    "\n",
    "for i, size in enumerate(range(5, 15)):\n",
    "    t = list(range(2**i * size))\n",
    "    key = 10\n",
    "    timings = %timeit -n 100 -r 10 -o -q bb(t, 0, len(t) - 1, key)\n",
    "    l_times.append([len(t), timings.best])\n",
    "    \n",
    "times = np.array(l_times)\n",
    "print(times)"
   ]
  },
  {
   "cell_type": "code",
   "execution_count": 7,
   "id": "e0494a74",
   "metadata": {},
   "outputs": [
    {
     "name": "stdout",
     "output_type": "stream",
     "text": [
      "[[5.00000000e+00 3.35340001e-07]\n",
      " [1.20000000e+01 3.34970000e-07]\n",
      " [2.80000000e+01 3.33170001e-07]\n",
      " [6.40000000e+01 5.67970001e-07]\n",
      " [1.44000000e+02 6.32609999e-07]\n",
      " [3.20000000e+02 5.55359998e-07]\n",
      " [7.04000000e+02 3.90860000e-07]\n",
      " [1.53600000e+03 3.87420000e-07]\n",
      " [3.32800000e+03 5.69320000e-07]\n",
      " [7.16800000e+03 1.14292000e-06]]\n"
     ]
    }
   ],
   "source": [
    "'TIEMPOS DE EJECUCION CON RECURSION'\n",
    "\n",
    "l_times = []\n",
    "import numpy as np\n",
    "from traitlets import List\n",
    "\n",
    "for i, size in enumerate(range(5, 15)):\n",
    "    t = list(range(2**i * size))\n",
    "    key = 10\n",
    "    timings = %timeit -n 100 -r 10 -o -q rec_bb(t, 0, len(t) - 1, key)\n",
    "    l_times.append([len(t), timings.best])\n",
    "    \n",
    "times = np.array(l_times)\n",
    "print(times)"
   ]
  },
  {
   "cell_type": "code",
   "execution_count": 2,
   "id": "d7ef2533",
   "metadata": {},
   "outputs": [],
   "source": [
    "def insert_min_heap(h, k):\n",
    "    h += [k]\n",
    "    j = len(h) - 1\n",
    "    \n",
    "    while j >= 1 and h[(j-1) // 2] > h[j]:\n",
    "        h[(j-1) // 2], h[j] = h[j], h[(j-1) // 2]\n",
    "        j = (j-1) // 2    "
   ]
  },
  {
   "cell_type": "code",
   "execution_count": 23,
   "id": "43cadbce",
   "metadata": {},
   "outputs": [
    {
     "name": "stdout",
     "output_type": "stream",
     "text": [
      "[0, 1, 2, 3, 4]\n",
      "[0, 1, 2, 3]\n"
     ]
    }
   ],
   "source": [
    "import numpy as np\n",
    "def pq_remove(h: np.ndarray):\n",
    "    h.pop()\n",
    "    return h\n",
    "\n",
    "array = [0,1,2,3,4]\n",
    "print(array)\n",
    "aux = pq_remove(array)\n",
    "print(aux)"
   ]
  },
  {
   "cell_type": "code",
   "execution_count": 2,
   "id": "b863f308",
   "metadata": {},
   "outputs": [
    {
     "name": "stdout",
     "output_type": "stream",
     "text": [
      "Heap: [1, 2, 5, 9, 4, 7, 8, 10]\n"
     ]
    }
   ],
   "source": [
    "import numpy as np\n",
    "def min_heapify(h: np.ndarray, i: int):\n",
    "    while 2*i+1 < len(h):\n",
    "        n_i = i\n",
    "        \n",
    "        if h[i] > h[2*i+1]:\n",
    "            n_i = 2*i+1\n",
    "        if 2*i+2 < len(h) and h[i] > h[2*i+2] and h[2*i+2] < h[n_i]:\n",
    "            n_i = 2*i+2\n",
    "\n",
    "        if n_i > i:\n",
    "            h[i], h[n_i] = h[n_i], h[i]\n",
    "            i = n_i\n",
    "        else:\n",
    "            return\n",
    "\n",
    "def create_min_heap (h:np.ndarray):\n",
    "    \n",
    "    j =((len(h)-1) -1)//2\n",
    "    while j >-1:\n",
    "        min_heapify (h, j)\n",
    "        j -= 1\n",
    "    return h\n",
    "\n",
    "l =  create_min_heap([10, 9, 7, 2, 4, 5, 8, 1])\n",
    "print(f'Heap: {l}')"
   ]
  },
  {
   "cell_type": "code",
   "execution_count": 3,
   "id": "def1a710",
   "metadata": {},
   "outputs": [],
   "source": [
    "from sklearn.linear_model import LinearRegression\n",
    "from typing import Callable\n",
    "import numpy as np\n",
    "def fit_func_2_times(timings: np.ndarray, func_2_fit: Callable):\n",
    "\n",
    "    if len(timings.shape) == 1:\n",
    "        timings = timings.reshape(-1, 1)\n",
    "        values = func_2_fit(timings[ :, 0]).reshape(-1, 1)\n",
    "        times  = timings[ : , 1] / timings[0, 1]\n",
    "        lr_m = LinearRegression()\n",
    "        lr_m.fit(values, times)\n",
    "        return lr_m.predict(values)\n",
    "        \n",
    "def func_2_fit(n):\n",
    "    return n**3"
   ]
  },
  {
   "cell_type": "code",
   "execution_count": 4,
   "id": "bad439c0",
   "metadata": {},
   "outputs": [
    {
     "ename": "NameError",
     "evalue": "name 'l_timings2' is not defined",
     "output_type": "error",
     "traceback": [
      "\u001b[0;31m---------------------------------------------------------------------------\u001b[0m",
      "\u001b[0;31mNameError\u001b[0m                                 Traceback (most recent call last)",
      "Cell \u001b[0;32mIn [4], line 2\u001b[0m\n\u001b[1;32m      1\u001b[0m \u001b[38;5;28;01mimport\u001b[39;00m \u001b[38;5;21;01mmatplotlib\u001b[39;00m\u001b[38;5;21;01m.\u001b[39;00m\u001b[38;5;21;01mpyplot\u001b[39;00m \u001b[38;5;28;01mas\u001b[39;00m \u001b[38;5;21;01mplt\u001b[39;00m\n\u001b[0;32m----> 2\u001b[0m timings3 \u001b[38;5;241m=\u001b[39m np\u001b[38;5;241m.\u001b[39masarray(\u001b[43ml_timings2\u001b[49m)\n\u001b[1;32m      3\u001b[0m ajuste \u001b[38;5;241m=\u001b[39m fit_func_2_times(timings3, func_2_fit)\n\u001b[1;32m      4\u001b[0m \u001b[38;5;28mprint\u001b[39m(l_timings2)\n",
      "\u001b[0;31mNameError\u001b[0m: name 'l_timings2' is not defined"
     ]
    }
   ],
   "source": [
    "import matplotlib.pyplot as plt\n",
    "timings3 = np.asarray(l_timings2)\n",
    "ajuste = fit_func_2_times(timings3, func_2_fit)\n",
    "print(l_timings2)\n",
    "print(timings3[:,0])\n",
    "plt.plot(timings3[ : ,0], ajuste , '-', label='f(x)= x**3')\n",
    "plt.plot(timings3[:,0], timings3[:,1]/timings3[0,1], '.', label='tiempos')\n",
    "plt.legend()\n",
    "plt.show()"
   ]
  },
  {
   "cell_type": "code",
   "execution_count": 37,
   "id": "3bd01932",
   "metadata": {},
   "outputs": [
    {
     "name": "stdout",
     "output_type": "stream",
     "text": [
      "[[10, 0.003952275001211092], [11, 0.0006052539974916726], [12, 0.0007574910050607286], [13, 0.0009736189967952669], [14, 0.001227297994773835], [15, 0.0014932909980416298], [16, 0.001819777004129719], [17, 0.002112731002853252], [18, 0.0025061440028366633], [19, 0.0034383340025669895], [20, 0.004178171999228653]]\n"
     ]
    }
   ],
   "source": [
    "l_timings2 = []\n",
    "for i2 in range(11):\n",
    "    dim2 = 10+i2\n",
    "    m2 = np.random.uniform(0., 1., (dim2, dim2))\n",
    "    timings2 = %timeit -o -n 1 -r 1 -q matrix_multiplication2(m2, m2)\n",
    "    l_timings2.append([dim2, timings2.best])\n",
    "\n",
    "print(l_timings2)"
   ]
  },
  {
   "cell_type": "code",
   "execution_count": 38,
   "id": "33bef598",
   "metadata": {},
   "outputs": [
    {
     "name": "stdout",
     "output_type": "stream",
     "text": [
      "[[12, 12], [18, 18]]\n"
     ]
    }
   ],
   "source": [
    "import numpy as np\n",
    "\n",
    "def matrix_multiplication2(m_1:np.ndarray, m_2:np.ndarray)->np.ndarray:\n",
    "    n_rows, n_interm, n_columns = \\\n",
    "    m_1.shape[0], m_2.shape[0], m_2.shape[1]\n",
    "    m_product = np.zeros((n_rows, n_columns))\n",
    "\n",
    "    for p in range(n_rows):\n",
    "        for q in range(n_columns):\n",
    "            for r in range(n_interm):\n",
    "                m_product[p, q] += m_1[p, r] * m_2[r, q]\n",
    "    return m_product\n",
    "\n",
    "a=[[2,2,2], [3,3,3]]\n",
    "b=[[2,2], [2,2], [2,2]]\n",
    "x = []\n",
    "x = matrix_multiplication(a, b)\n",
    "print(x)"
   ]
  }
 ],
 "metadata": {
  "kernelspec": {
   "display_name": "Python 3.9.12 ('base')",
   "language": "python",
   "name": "python3"
  },
  "language_info": {
   "codemirror_mode": {
    "name": "ipython",
    "version": 3
   },
   "file_extension": ".py",
   "mimetype": "text/x-python",
   "name": "python",
   "nbconvert_exporter": "python",
   "pygments_lexer": "ipython3",
   "version": "3.9.12"
  },
  "vscode": {
   "interpreter": {
    "hash": "e8fac7edbe3fc3ee8dc4af7fb9891cac1e2a78a800a1446a0d4fe2e2c052a0fd"
   }
  }
 },
 "nbformat": 4,
 "nbformat_minor": 5
}
